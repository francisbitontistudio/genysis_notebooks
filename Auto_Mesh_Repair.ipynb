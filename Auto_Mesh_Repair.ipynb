{
 "cells": [
  {
   "cell_type": "markdown",
   "metadata": {},
   "source": [
    "### AUTO MESH REPAIR\n",
    "\n",
    "\n",
    "This tool uses a chained sequence of our low-level repairing functions such as filling holes, non-manifold triangles filter and unifying mesh nomrals. \n",
    "\n",
    "\n",
    "It has been setup to deal with as many different scenarios as possible. The algorithm is fully based hash map of shared vertices and edges, the performace ranges from 0.01 ~ 0.04 ms per triangle given different complexity of problems. \n",
    "\n",
    "Given enough sample files, this tool can be fine-tuned to achieve even higher performance.\n",
    "\n",
    "#### Files Management Site\n",
    "Your files can be managed from:\n",
    "\n",
    "http://studiobitonti.appspot.com/"
   ]
  },
  {
   "cell_type": "code",
   "execution_count": 1,
   "metadata": {},
   "outputs": [
    {
     "name": "stdout",
     "output_type": "stream",
     "text": [
      "Welcome to GENYSIS\n"
     ]
    }
   ],
   "source": [
    "# import Genysis library\n",
    "import genysis\n",
    "token = \"YOUR TOKEN\""
   ]
  },
  {
   "cell_type": "code",
   "execution_count": 2,
   "metadata": {},
   "outputs": [
    {
     "name": "stdout",
     "output_type": "stream",
     "text": [
      "('uploading file size:', 0.884, 'MB')\n",
      "[==================================================]100%\n",
      "successfully uploaded test/BunnyBroken.obj as BunnyBroken.obj\n"
     ]
    }
   ],
   "source": [
    "# upload a local file to server \n",
    "r = genysis.upload(src ='test/BunnyBroken.obj' ,dest = 'BunnyBroken.obj',token = token)"
   ]
  },
  {
   "cell_type": "code",
   "execution_count": 3,
   "metadata": {},
   "outputs": [
    {
     "name": "stdout",
     "output_type": "stream",
     "text": [
      "('request: ', '{\"input\": \"BunnyBroken.obj\", \"t\": \"dev\", \"output\": \"BunnyBroken_fixed.obj\"}')\n",
      "REPAIR STATUS: succeed\n",
      "{u'before': {u'naked': 239, u'non-manifold': 127, u'triangles': 19556}, u'after': {u'naked': 0, u'non-manifold': 0, u'triangles': 19686}, u'time': {u'AVG(ms/triangle)': 0.06019870399526595, u'TOTAL(s)': 1.177245855331421}}\n"
     ]
    }
   ],
   "source": [
    "# initialize repair class\n",
    "repair = genysis.meshRepair_v2(token)\n",
    "\n",
    "# name of input file saved on server\n",
    "input_file = \"BunnyBroken.obj\"\n",
    "\n",
    "# choose an input file, these are already uploaded first to server using the file management site\n",
    "repair.setInput(input_file)\n",
    "\n",
    "# set output file name , it can be downloaded through file management site when the api is called\n",
    "repair.setOutput(\"BunnyBroken_fixed.obj\")\n",
    "\n",
    "# send the api request and get response\n",
    "api_response = repair.auto_repair()\n",
    "\n",
    "# print repair status\n",
    "print('REPAIR STATUS: ' + api_response['message']['status'])\n",
    "\n",
    "# print a summary of repair operation\n",
    "print(api_response['message']['summary'])"
   ]
  },
  {
   "cell_type": "code",
   "execution_count": 4,
   "metadata": {},
   "outputs": [
    {
     "name": "stdout",
     "output_type": "stream",
     "text": [
      "loading obj\n",
      "('read content', 0.0030908584594726562, 's')\n",
      "('parse vertices and faces', 0.2087388038635254, 's')\n",
      "('faces:', 19556, ' vertices:', 9851)\n",
      "('load obj', 0.35101890563964844, 's')\n",
      "('add edges', 0.047689199447631836, 's')\n",
      "('detect took ', 0.06875109672546387, 's')\n",
      "('naked', 239)\n",
      "('non-manifold', 127)\n",
      "('ANALYSIS TIME: ', 0.4252018928527832, 's')\n",
      "('AVG: ', 0.021742784457597832, 'ms per triangle')\n",
      "\n",
      " start to clean up non-manifold edges\n",
      "\n",
      " delete highly non-manifold faces\n",
      "(26, 'triangles to delete')\n",
      "('detect took ', 0.020400047302246094, 's')\n",
      "('naked', 240)\n",
      "('non-manifold', 0)\n",
      "\n",
      " remove interior non-manifold edges\n",
      "('nonManifold_dict: ', 0.06879687309265137, 's')\n",
      "('detect overlap: ', 0.06883096694946289, 's')\n",
      "(0, 'triangles to delete')\n",
      "('detect took ', 0.020104169845581055, 's')\n",
      "('naked', 240)\n",
      "('non-manifold', 0)\n",
      "\n",
      " detect overlapped faces\n",
      "('nonManifold_dict: ', 0.07217597961425781, 's')\n",
      "('detect overlap: ', 0.07220816612243652, 's')\n",
      "(0, 'triangles to delete')\n",
      "('detect took ', 0.02011585235595703, 's')\n",
      "('naked', 240)\n",
      "('non-manifold', 0)\n",
      "\n",
      " delete floating faces\n",
      "(7, 'triangles to delete')\n",
      "('detect took ', 0.02701282501220703, 's')\n",
      "('naked', 233)\n",
      "('non-manifold', 0)\n",
      "\n",
      " fill holes, iteration: 1\n",
      "('adding faces', 160)\n",
      "('added triangles', 160)\n",
      "('detect took ', 0.01996016502380371, 's')\n",
      "('naked', 5)\n",
      "('non-manifold', 0)\n",
      "\n",
      " fill holes, iteration: 2\n",
      "('adding faces', 3)\n",
      "('added triangles', 3)\n",
      "('detect took ', 0.019249916076660156, 's')\n",
      "('naked', 0)\n",
      "('non-manifold', 0)\n",
      "\n",
      " unify normals\n",
      "('construct neighbor dict', 0.012855052947998047)\n",
      "(948, 'flipped edges found')\n",
      "('share edge dict', 0.11489295959472656)\n",
      "('iterate all faces', 0.05013394355773926)\n",
      "('inverting faces:', 4766, '/', 19686, 'for shell num: ', 1)\n",
      "\n",
      " repair is successful!\n",
      "\n",
      " save\n",
      "('write obj', 0.12311601638793945, 's')\n",
      "('TOTAL TIME: ', 1.177245855331421, 's')\n",
      "('AVG: ', 0.06019870399526595, 'ms per triangle')\n",
      "--SUMMARY\n",
      "{\"after\": {\"naked\": 0, \"non-manifold\": 0, \"triangles\": 19686}, \"time\": {\"AVG(ms/triangle)\": 0.06019870399526595, \"TOTAL(s)\": 1.177245855331421}, \"before\": {\"naked\": 239, \"non-manifold\": 127, \"triangles\": 19556}}\n",
      "SUMMARY--\n",
      "\n"
     ]
    }
   ],
   "source": [
    "# print the full log of repair operations\n",
    "print(api_response['message']['log'])"
   ]
  },
  {
   "cell_type": "code",
   "execution_count": 5,
   "metadata": {},
   "outputs": [
    {
     "name": "stdout",
     "output_type": "stream",
     "text": [
      "Downloading BunnyBroken_fixed.obj as BunnyBroken_fixed.obj\n",
      "[==================================================]100%\n",
      "successfully downloaded to BunnyBroken_fixed.obj\n"
     ]
    }
   ],
   "source": [
    "# download file to local folder\n",
    "genysis.download(src='BunnyBroken_fixed.obj',dest='BunnyBroken_fixed.obj',token=token)"
   ]
  },
  {
   "cell_type": "code",
   "execution_count": null,
   "metadata": {},
   "outputs": [],
   "source": []
  }
 ],
 "metadata": {
  "kernelspec": {
   "display_name": "Python 2",
   "language": "python",
   "name": "python2"
  },
  "language_info": {
   "codemirror_mode": {
    "name": "ipython",
    "version": 2
   },
   "file_extension": ".py",
   "mimetype": "text/x-python",
   "name": "python",
   "nbconvert_exporter": "python",
   "pygments_lexer": "ipython2",
   "version": "2.7.12"
  }
 },
 "nbformat": 4,
 "nbformat_minor": 2
}
