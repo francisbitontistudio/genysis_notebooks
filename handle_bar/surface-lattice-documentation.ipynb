{
 "cells": [
  {
   "cell_type": "code",
   "execution_count": 1,
   "metadata": {},
   "outputs": [
    {
     "name": "stdout",
     "output_type": "stream",
     "text": [
      "Welcome to GENYSIS\n"
     ]
    }
   ],
   "source": [
    "import genysis\n",
    "import math as m\n",
    "\n",
    "token = 'Space0ut!'"
   ]
  },
  {
   "cell_type": "code",
   "execution_count": 5,
   "metadata": {},
   "outputs": [
    {
     "name": "stdout",
     "output_type": "stream",
     "text": [
      "uploading file size: 0.008 MB\n",
      "[====================================================]104%\n",
      "successfully uploaded EXPORTS/crosshatch_deep.obj as deep.obj\n",
      "uploading file size: 0.006 MB\n",
      "[====================================================]105%\n",
      "successfully uploaded EXPORTS/crosshatch_shallow.obj as shallow.obj\n",
      "uploading file size: 0.093 MB\n",
      "[==================================================]100%\n",
      "successfully uploaded EXPORTS/handleBot_Srf.igs as bot.igs\n",
      "uploading file size: 5.397 MB\n",
      "[==================================================]100%\n",
      "successfully uploaded EXPORTS/handleTop_Srf.igs as top.igs\n",
      "https://studiobitonti.appspot.com/apps/visualize?name=deep.obj&t=Space0ut!\n"
     ]
    },
    {
     "data": {
      "text/html": [
       "\n",
       "        <iframe\n",
       "            width=\"800\"\n",
       "            height=\"600\"\n",
       "            src=\"https://studiobitonti.appspot.com/apps/visualize?name=deep.obj&t=Space0ut!\"\n",
       "            frameborder=\"0\"\n",
       "            allowfullscreen\n",
       "        ></iframe>\n",
       "        "
      ],
      "text/plain": [
       "<IPython.lib.display.IFrame at 0x2108e0f0488>"
      ]
     },
     "metadata": {},
     "output_type": "display_data"
    },
    {
     "name": "stdout",
     "output_type": "stream",
     "text": [
      "https://studiobitonti.appspot.com/apps/visualize?name=shallow.obj&t=Space0ut!\n"
     ]
    },
    {
     "data": {
      "text/html": [
       "\n",
       "        <iframe\n",
       "            width=\"800\"\n",
       "            height=\"600\"\n",
       "            src=\"https://studiobitonti.appspot.com/apps/visualize?name=shallow.obj&t=Space0ut!\"\n",
       "            frameborder=\"0\"\n",
       "            allowfullscreen\n",
       "        ></iframe>\n",
       "        "
      ],
      "text/plain": [
       "<IPython.lib.display.IFrame at 0x2108daa5148>"
      ]
     },
     "metadata": {},
     "output_type": "display_data"
    },
    {
     "name": "stdout",
     "output_type": "stream",
     "text": [
      "https://studiobitonti.appspot.com/apps/visualize?name=bot.igs&t=Space0ut!\n"
     ]
    },
    {
     "data": {
      "text/html": [
       "\n",
       "        <iframe\n",
       "            width=\"800\"\n",
       "            height=\"600\"\n",
       "            src=\"https://studiobitonti.appspot.com/apps/visualize?name=bot.igs&t=Space0ut!\"\n",
       "            frameborder=\"0\"\n",
       "            allowfullscreen\n",
       "        ></iframe>\n",
       "        "
      ],
      "text/plain": [
       "<IPython.lib.display.IFrame at 0x2108dff5788>"
      ]
     },
     "metadata": {},
     "output_type": "display_data"
    },
    {
     "name": "stdout",
     "output_type": "stream",
     "text": [
      "https://studiobitonti.appspot.com/apps/visualize?name=top.igs&t=Space0ut!\n"
     ]
    },
    {
     "data": {
      "text/html": [
       "\n",
       "        <iframe\n",
       "            width=\"800\"\n",
       "            height=\"600\"\n",
       "            src=\"https://studiobitonti.appspot.com/apps/visualize?name=top.igs&t=Space0ut!\"\n",
       "            frameborder=\"0\"\n",
       "            allowfullscreen\n",
       "        ></iframe>\n",
       "        "
      ],
      "text/plain": [
       "<IPython.lib.display.IFrame at 0x2108daa5148>"
      ]
     },
     "metadata": {},
     "output_type": "display_data"
    },
    {
     "data": {
      "text/plain": [
       "'https://studiobitonti.appspot.com/apps/visualize?name=top.igs&t=Space0ut!'"
      ]
     },
     "execution_count": 5,
     "metadata": {},
     "output_type": "execute_result"
    }
   ],
   "source": [
    "genysis.upload('EXPORTS/crosshatch_deep.obj','deep.obj',token)\n",
    "genysis.upload('EXPORTS/crosshatch_shallow.obj','shallow.obj',token)\n",
    "genysis.upload('EXPORTS/handleBot_Srf.igs','bot.igs',token)\n",
    "genysis.upload('EXPORTS/handleTop_Srf.igs','top.igs',token)\n",
    "\n",
    "genysis.visualize(\"deep.obj\",token,True)\n",
    "genysis.visualize(\"shallow.obj\",token,True)\n",
    "\n",
    "genysis.visualize(\"bot.igs\",token,True)\n",
    "genysis.visualize(\"top.igs\",token,True)"
   ]
  },
  {
   "cell_type": "code",
   "execution_count": 3,
   "metadata": {},
   "outputs": [],
   "source": [
    "def parseAtt(dir):\n",
    "\n",
    "\tf = open(dir,'r')\n",
    "\tlines = f.read().split('\\n')\n",
    "\n",
    "\tif lines[0] == \"\":\n",
    "\n",
    "\t\treturn []\n",
    "\n",
    "\telse:\n",
    "\n",
    "\t\tcrvPts = []\n",
    "\n",
    "\t\tfor i in range(len(lines)):\n",
    "\t\t\t\n",
    "\t\t\tentries = lines[i].split(' ')\n",
    "\t\t\tpoints = []\n",
    "\n",
    "\t\t\tfor j in range(len(entries)):\n",
    "\t\t\t\tinfo = entries[j].split(',')\n",
    "\t\t\t\tpoint = [float(info[0]),float(info[1]),float(info[2])]\n",
    "\t\t\t\tpoints.append(point)\n",
    "\n",
    "\t\t\tcrvPts.append(points)\n",
    "\n",
    "\treturn crvPts\n",
    "\n",
    "attCrvs = parseAtt('CSV/attCrvs_SrfDemo.csv')"
   ]
  },
  {
   "cell_type": "code",
   "execution_count": 4,
   "metadata": {},
   "outputs": [
    {
     "name": "stdout",
     "output_type": "stream",
     "text": [
      "request:  {\"surfaces\": [\"bot.igs\", \"top.igs\"], \"div_U\": 20, \"div_V\": 80, \"div_W\": 1, \"output\": \"boxes.json\", \"t\": \"Space0ut!\"}\n",
      "response:  [\"boxes.json\"]\n",
      "\n",
      "request:  {\"boxes\": \"boxes.json\", \"component\": \"shallow.obj\", \"filename\": \"texture.obj\", \"t\": \"Space0ut!\", \"blendTargets\": [{\"component\": \"deep.obj\", \"attractor\": {\"curve\": [[224.245439469, 126.0, 23.6586038213], [224.245439469, 129.030906535, 24.5123713977], [224.245439469, 132.145036749, 24.9803110123], [224.245439469, 135.292830962, 25.0780743686], [224.245439469, 138.431912096, 24.8228030778], [224.245439469, 141.524530055, 24.2269717949], [224.245439469, 144.534439918, 23.2997743496], [224.245439469, 147.424460134, 22.0481294041], [224.245439469, 150.15516007, 20.479241846], [224.245439469, 152.683100231, 18.6013195443], [224.245439469, 154.959021239, 16.4251636043], [224.245439469, 156.926281409, 13.9668572672], [224.245439469, 158.525150334, 11.254953662], [224.245439469, 159.673965918, 8.32479738865], [224.245439469, 160.31696719, 5.24367350347], [224.245439469, 160.454626679, 2.09890873253], [224.245439469, 160.362873835, -1.04305584674], [224.245439469, 160.387880681, -4.19162072438], [224.245439469, 159.92132508, -7.30413911696], [224.245439469, 158.938563798, -10.2941364776], [224.245439469, 157.487351169, -13.0875283314]], \"range\": 21}}, {\"component\": \"deep.obj\", \"attractor\": {\"curve\": [[184.245439469, 126.0, 23.5656461237], [184.245439469, 129.007945659, 24.4498423101], [184.245439469, 132.10291036, 24.9515985156], [184.245439469, 135.235832613, 25.0796255543], [184.245439469, 138.362752041, 24.8459207509], [184.245439469, 141.443341151, 24.260717807], [184.245439469, 144.438691804, 23.3331797362], [184.245439469, 147.309509479, 22.0720205208], [184.245439469, 150.015235136, 20.4875269829], [184.245439469, 152.512880273, 18.5921266189], [184.245439469, 154.756034801, 16.401725656], [184.245439469, 156.694385285, 13.9377906067], [184.245439469, 158.277263038, 11.232079113], [184.245439469, 159.44047267, 8.32173468617], [184.245439469, 160.142681773, 5.26706668929], [184.245439469, 160.3802465, 2.14157078495], [184.245439469, 160.333628853, -0.992440849846], [184.245439469, 160.260683928, -4.12672876625], [184.245439469, 159.733730132, -7.21631495728], [184.245439469, 158.73623886, -10.1875744037], [184.245439469, 157.303856241, -12.9756838039]], \"range\": 21}}, {\"component\": \"deep.obj\", \"attractor\": {\"curve\": [[144.245439469, 126.0, 23.470997038], [144.245439469, 128.985561671, 24.38554018], [144.245439469, 132.061824384, 24.9214247637], [144.245439469, 135.180470727, 25.0803201138], [144.245439469, 138.296041872, 24.8685434153], [144.245439469, 141.365461121, 24.2936815147], [144.245439469, 144.34688273, 23.3647583956], [144.245439469, 147.19871462, 22.0925150639], [144.245439469, 149.879279618, 20.4907162293], [144.245439469, 152.346318631, 18.5764533029], [144.245439469, 154.556753583, 16.3710188204], [144.245439469, 156.466944897, 13.9011331137], [144.245439469, 158.035121644, 11.2013331762], [144.245439469, 159.213894453, 8.31049314155], [144.245439469, 159.973301803, 5.28223469426], [144.245439469, 160.305802941, 2.17787356617], [144.245439469, 160.30877636, -0.945692295167], [144.245439469, 160.141552299, -4.06369317785], [144.245439469, 159.553315477, -7.12972493104], [144.245439469, 158.537326734, -10.0817332989], [144.245439469, 157.119686271, -12.8634278223]], \"range\": 21}}, {\"component\": \"deep.obj\", \"attractor\": {\"curve\": [[104.245439469, 126.0, 23.3744833252], [104.245439469, 128.96369446, 24.3193188091], [104.245439469, 132.02164451, 24.8896965039], [104.245439469, 135.126532975, 25.0801562769], [104.245439469, 138.231512263, 24.8907596378], [104.245439469, 141.290572074, 24.3259747319], [104.245439469, 144.25861663, 23.3945650027], [104.245439469, 147.091559437, 22.109586418], [104.245439469, 149.74663717, 20.4887343865], [104.245439469, 152.182683321, 18.5542818349], [104.245439469, 154.36049465, 16.3331731644], [104.245439469, 156.243413962, 13.8571780054], [104.245439469, 157.798454016, 11.163214154], [104.245439469, 158.994236606, 8.29176180609], [104.245439469, 159.809138567, 5.28988558264], [104.245439469, 160.231906379, 2.20820377448], [104.245439469, 160.287689058, -0.902757176695], [104.245439469, 160.030055524, -4.00273122326], [104.245439469, 159.379988535, -7.044538963], [104.245439469, 158.341995784, -9.97673009362], [104.245439469, 156.935015115, -12.7508663559]], \"range\": 21}}, {\"component\": \"deep.obj\", \"attractor\": {\"curve\": [[263.225120044, 157.632974432, -13.1762891776], [264.053718339, 155.513714367, -15.9949504549], [264.720888201, 152.963337382, -18.4803703543], [265.221657954, 150.06562327, -20.597458459], [265.555024761, 146.897031457, -22.3239011919], [265.72199914, 143.526511335, -23.644837699], [265.723827642, 140.016738204, -24.5476605186], [265.560829596, 136.427017982, -25.0180765645], [265.236045409, 132.817910639, -25.0489480634], [264.741158847, 129.256575651, -24.6002469686], [264.082045294, 125.81766606, -23.6690195422], [263.264224516, 122.586726001, -22.2485490481], [262.306168718, 119.640688732, -20.3699079423], [261.231732431, 117.044971739, -18.0819022356], [260.068351423, 114.844952531, -15.4483035235], [258.843792035, 113.064560032, -12.5392781944], [257.583396027, 111.711142356, -9.42257251144], [256.309157936, 110.7795966, -6.15992129291], [255.039574025, 110.257918999, -2.80521315798], [253.790193257, 110.131696489, 0.595144605956], [252.57557271, 110.396406957, 4.0]], \"range\": 21}}], \"EPSILON\": 0.01}\n",
      "response:  [\"texture.obj\"]\n",
      "request:  {\"input\": \"texture.obj\", \"output\": \"surface-lattice-demo.obj\", \"t\": \"Space0ut!\"}\n",
      "https://studiobitonti.appspot.com/apps/visualize?name=surface-lattice-demo.obj&t=Space0ut!\n"
     ]
    },
    {
     "data": {
      "text/html": [
       "\n",
       "        <iframe\n",
       "            width=\"800\"\n",
       "            height=\"600\"\n",
       "            src=\"https://studiobitonti.appspot.com/apps/visualize?name=surface-lattice-demo.obj&t=Space0ut!\"\n",
       "            frameborder=\"0\"\n",
       "            allowfullscreen\n",
       "        ></iframe>\n",
       "        "
      ],
      "text/plain": [
       "<IPython.lib.display.IFrame at 0x2108e0f24c8>"
      ]
     },
     "metadata": {},
     "output_type": "display_data"
    },
    {
     "name": "stdout",
     "output_type": "stream",
     "text": [
      "Downloading surface-lattice-demo.obj as surface-lattice-demo.obj\n",
      "[==================================================]100%\n",
      "successfully downloaded to surface-lattice-demo.obj\n"
     ]
    }
   ],
   "source": [
    "texture = genysis.surfaceLattice()\n",
    "texture.setSurfaces(['bot.igs','top.igs'])\n",
    "#texture.setHeight(10)\n",
    "texture.setComponent('shallow.obj')\n",
    "texture.setGridOutput('boxes.json')\n",
    "texture.setDivision(u=20,v=80,w=1)\n",
    "texture.genGrid(token)\n",
    "\n",
    "for i in range(len(attCrvs)):\n",
    "   texture.addCurveAttractor('deep.obj',attCrvs[i],range=21)\n",
    " \n",
    "texture.setOutput('texture.obj')\n",
    "texture.populateLattice(token)\n",
    "\n",
    "textureRepair = genysis.meshRepair_v2(token)\n",
    "textureRepair.setInput('texture.obj')\n",
    "textureRepair.setOutput('surface-lattice-demo.obj')\n",
    "textureRepair.auto_repair()\n",
    "\n",
    "genysis.visualize(\"surface-lattice-demo.obj\",token,True)\n",
    "genysis.download(src='surface-lattice-demo.obj',dest='surface-lattice-demo.obj',token=token)"
   ]
  },
  {
   "cell_type": "code",
   "execution_count": null,
   "metadata": {},
   "outputs": [],
   "source": []
  }
 ],
 "metadata": {
  "kernelspec": {
   "display_name": "Python 3",
   "language": "python",
   "name": "python3"
  },
  "language_info": {
   "codemirror_mode": {
    "name": "ipython",
    "version": 3
   },
   "file_extension": ".py",
   "mimetype": "text/x-python",
   "name": "python",
   "nbconvert_exporter": "python",
   "pygments_lexer": "ipython3",
   "version": "3.7.7"
  }
 },
 "nbformat": 4,
 "nbformat_minor": 2
}
