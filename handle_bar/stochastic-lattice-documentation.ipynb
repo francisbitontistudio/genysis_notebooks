{
 "cells": [
  {
   "cell_type": "code",
   "execution_count": 1,
   "metadata": {},
   "outputs": [
    {
     "name": "stdout",
     "output_type": "stream",
     "text": [
      "Welcome to GENYSIS\n"
     ]
    }
   ],
   "source": [
    "import genysis\n",
    "import math as m\n",
    "\n",
    "token = 'Space0ut!'"
   ]
  },
  {
   "cell_type": "code",
   "execution_count": 2,
   "metadata": {},
   "outputs": [
    {
     "name": "stdout",
     "output_type": "stream",
     "text": [
      "uploading file size: 13.481 MB\n",
      "[==================================================]100%\n",
      "successfully uploaded EXPORTS/handleBar_vol.obj as vol.obj\n"
     ]
    },
    {
     "data": {
      "text/plain": [
       "{'message': 'handleBar_vol.obj uploaded to public/vol.obj'}"
      ]
     },
     "execution_count": 2,
     "metadata": {},
     "output_type": "execute_result"
    }
   ],
   "source": [
    "genysis.upload('EXPORTS/handleBar_vol.obj','vol.obj',token)"
   ]
  },
  {
   "cell_type": "code",
   "execution_count": 3,
   "metadata": {},
   "outputs": [
    {
     "name": "stdout",
     "output_type": "stream",
     "text": [
      "request:  {\"volume\": \"vol.obj\", \"poreSize\": 5, \"filename\": \"tempCrvs.obj\", \"t\": \"Space0ut!\"}\n",
      "response:  [\"tempCrvs.obj\"]\n"
     ]
    },
    {
     "data": {
      "text/plain": [
       "['tempCrvs.obj']"
      ]
     },
     "execution_count": 3,
     "metadata": {},
     "output_type": "execute_result"
    }
   ],
   "source": [
    "lattice = genysis.volumeLattice()\n",
    "lattice.setVolume(\"vol.obj\")\n",
    "lattice.setPoreSize(5)\n",
    "lattice.setOutput(\"tempCrvs.obj\")\n",
    "lattice.runStochastic(token)"
   ]
  },
  {
   "cell_type": "code",
   "execution_count": 4,
   "metadata": {},
   "outputs": [
    {
     "name": "stdout",
     "output_type": "stream",
     "text": [
      "request:  {\"lines\": \"tempCrvs.obj\", \"resolution\": 500, \"memberThickness\": 0.5, \"filename\": \"stochastic-lattice.obj\", \"t\": \"Space0ut!\"}\n",
      "response:  [\"stochastic-lattice.obj\"]\n",
      "https://studiobitonti.appspot.com/apps/visualize?name=stochastic-lattice.obj&t=Space0ut!\n"
     ]
    },
    {
     "data": {
      "text/html": [
       "\n",
       "        <iframe\n",
       "            width=\"800\"\n",
       "            height=\"600\"\n",
       "            src=\"https://studiobitonti.appspot.com/apps/visualize?name=stochastic-lattice.obj&t=Space0ut!\"\n",
       "            frameborder=\"0\"\n",
       "            allowfullscreen\n",
       "        ></iframe>\n",
       "        "
      ],
      "text/plain": [
       "<IPython.lib.display.IFrame at 0x2a5fdaffe08>"
      ]
     },
     "metadata": {},
     "output_type": "display_data"
    },
    {
     "data": {
      "text/plain": [
       "'https://studiobitonti.appspot.com/apps/visualize?name=stochastic-lattice.obj&t=Space0ut!'"
      ]
     },
     "execution_count": 4,
     "metadata": {},
     "output_type": "execute_result"
    }
   ],
   "source": [
    "genysis.marchingCube('tempCrvs.obj',500,.5,\"stochastic-lattice.obj\",token)\n",
    "genysis.visualize(\"stochastic-lattice.obj\",token,True)"
   ]
  },
  {
   "cell_type": "code",
   "execution_count": 16,
   "metadata": {},
   "outputs": [
    {
     "name": "stdout",
     "output_type": "stream",
     "text": [
      "Downloading stochastic-lattice.obj as stochastic-lattice-demo.obj\n",
      "[==================================================]100%\n",
      "successfully downloaded to stochastic-lattice-demo.obj\n"
     ]
    }
   ],
   "source": [
    "genysis.download(src=\"stochastic-lattice.obj\",dest=\"stochastic-lattice-demo.obj\",token=token)"
   ]
  },
  {
   "cell_type": "code",
   "execution_count": null,
   "metadata": {},
   "outputs": [],
   "source": []
  }
 ],
 "metadata": {
  "kernelspec": {
   "display_name": "Python 3",
   "language": "python",
   "name": "python3"
  },
  "language_info": {
   "codemirror_mode": {
    "name": "ipython",
    "version": 3
   },
   "file_extension": ".py",
   "mimetype": "text/x-python",
   "name": "python",
   "nbconvert_exporter": "python",
   "pygments_lexer": "ipython3",
   "version": "3.7.7"
  }
 },
 "nbformat": 4,
 "nbformat_minor": 2
}
