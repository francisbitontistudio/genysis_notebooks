{
 "cells": [
  {
   "cell_type": "code",
   "execution_count": 8,
   "metadata": {},
   "outputs": [
    {
     "name": "stdout",
     "output_type": "stream",
     "text": [
      "('uploading file size:', 0.004, 'MB')\n",
      "[======================================================]108%\n",
      "successfully uploaded test/surface_10by10.obj as surface_10by10.obj\n",
      "('uploading file size:', 0.071, 'MB')\n",
      "[==================================================]100%\n",
      "successfully uploaded test/chain_unit.obj as chain_unit.obj\n"
     ]
    },
    {
     "data": {
      "text/plain": [
       "{u'message': u'chain_unit.obj uploaded to test@test.com/chain_unit.obj'}"
      ]
     },
     "execution_count": 8,
     "metadata": {},
     "output_type": "execute_result"
    }
   ],
   "source": [
    "import genysis\n",
    "token = \"temp_sdmsd2123df3adsfa_2018.03.20\" # replace with your valid token\n",
    "\n",
    "genysis.upload(\"test/surface_10by10.obj\",\"surface_10by10.obj\",token)\n",
    "genysis.upload(\"test/chain_unit.obj\",\"chain_unit.obj\",token)"
   ]
  },
  {
   "cell_type": "code",
   "execution_count": 10,
   "metadata": {},
   "outputs": [
    {
     "name": "stdout",
     "output_type": "stream",
     "text": [
      "('request: ', '{\"autoScale\": false, \"EPSILON\": 0.01, \"component\": \"chain_unit.obj\", \"filename\": \"surfaceLattice_chainmail.obj\", \"blendTargets\": [], \"base\": \"surface_10by10.obj\", \"t\": \"temp_sdmsd2123df3adsfa_2018.03.20\", \"ceil\": null, \"cellHeight\": 2}')\n",
      "('response: ', u'[\"surfaceLattice_chainmail.obj\"]')\n",
      "https://studiobitonti.appspot.com/apps/visualize?name=surfaceLattice_chainmail.obj&t=temp_sdmsd2123df3adsfa_2018.03.20\n"
     ]
    },
    {
     "data": {
      "text/html": [
       "\n",
       "        <iframe\n",
       "            width=\"800\"\n",
       "            height=\"600\"\n",
       "            src=\"https://studiobitonti.appspot.com/apps/visualize?name=surfaceLattice_chainmail.obj&t=temp_sdmsd2123df3adsfa_2018.03.20\"\n",
       "            frameborder=\"0\"\n",
       "            allowfullscreen\n",
       "        ></iframe>\n",
       "        "
      ],
      "text/plain": [
       "<IPython.lib.display.IFrame at 0x7f4f8253d850>"
      ]
     },
     "metadata": {},
     "output_type": "display_data"
    },
    {
     "data": {
      "text/plain": [
       "'https://studiobitonti.appspot.com/apps/visualize?name=surfaceLattice_chainmail.obj&t=temp_sdmsd2123df3adsfa_2018.03.20'"
      ]
     },
     "execution_count": 10,
     "metadata": {},
     "output_type": "execute_result"
    }
   ],
   "source": [
    "surfaceLattice = genysis.surfaceLattice()\n",
    "surfaceLattice.setAutoScale(False) # set auto scale to False here to allow unit geometry exceed cell range\n",
    "surfaceLattice.setSurface(\"surface_10by10.obj\")\n",
    "surfaceLattice.setCellHeight(2)\n",
    "surfaceLattice.setComponent(\"chain_unit.obj\")\n",
    "surfaceLattice.setOutput(\"surfaceLattice_chainmail.obj\")\n",
    "surfaceLattice.run(token)\n",
    "genysis.visualize(\"surfaceLattice_chainmail.obj\",token,True)"
   ]
  },
  {
   "cell_type": "code",
   "execution_count": 11,
   "metadata": {},
   "outputs": [
    {
     "name": "stdout",
     "output_type": "stream",
     "text": [
      "Downloading surfaceLattice_chainmail.obj as test/surfaceLattice_chainmail.obj\n",
      "[==================================================]100%\n",
      "successfully downloaded to test/surfaceLattice_chainmail.obj\n"
     ]
    }
   ],
   "source": [
    "genysis.download(\"surfaceLattice_chainmail.obj\",\"test/surfaceLattice_chainmail.obj\",token)"
   ]
  }
 ],
 "metadata": {
  "kernelspec": {
   "display_name": "Python 2",
   "language": "python",
   "name": "python2"
  },
  "language_info": {
   "codemirror_mode": {
    "name": "ipython",
    "version": 2
   },
   "file_extension": ".py",
   "mimetype": "text/x-python",
   "name": "python",
   "nbconvert_exporter": "python",
   "pygments_lexer": "ipython2",
   "version": "2.7.12"
  }
 },
 "nbformat": 4,
 "nbformat_minor": 2
}
