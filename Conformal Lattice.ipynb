{
 "cells": [
  {
   "cell_type": "code",
   "execution_count": 27,
   "metadata": {},
   "outputs": [
    {
     "name": "stdout",
     "output_type": "stream",
     "text": [
      "('uploading file size:', 0.076, 'MB')\n",
      "[==================================================]100%\n",
      "successfully uploaded test/sole_example.json as sole_example.json\n"
     ]
    },
    {
     "data": {
      "text/plain": [
       "{u'message': u'sole_example.json uploaded to test@test.com/sole_example.json'}"
      ]
     },
     "execution_count": 27,
     "metadata": {},
     "output_type": "execute_result"
    }
   ],
   "source": [
    "import genysis\n",
    "\n",
    "token = \"temp_sdmsd2123df3adsfa_2018.03.20\" # replace with your valid token\n",
    "\n",
    "# upload json file defination of 4 boundary surfaces. The preparation of such surface defination please refer to :\n",
    "# https://www.genysis.cloud/documentation/confomal-grid\n",
    "genysis.upload(src = \"test/sole_example.json\", dest = \"sole_example.json\", token = token)"
   ]
  },
  {
   "cell_type": "code",
   "execution_count": 12,
   "metadata": {},
   "outputs": [
    {
     "name": "stdout",
     "output_type": "stream",
     "text": [
      "('request: ', '{\"surfaces\": \"sole_example.json\", \"filename\": \"grid_example.json\", \"u\": 50, \"t\": \"temp_sdmsd2123df3adsfa_2018.03.20\", \"w\": 5, \"v\": 6}')\n",
      "('response: ', u'[\"grid_example.json\"]')\n",
      "https://studiobitonti.appspot.com/apps/visualize?name=grid_example.json&t=temp_sdmsd2123df3adsfa_2018.03.20\n"
     ]
    },
    {
     "data": {
      "text/html": [
       "\n",
       "        <iframe\n",
       "            width=\"500\"\n",
       "            height=\"500\"\n",
       "            src=\"https://studiobitonti.appspot.com/apps/visualize?name=grid_example.json&t=temp_sdmsd2123df3adsfa_2018.03.20\"\n",
       "            frameborder=\"0\"\n",
       "            allowfullscreen\n",
       "        ></iframe>\n",
       "        "
      ],
      "text/plain": [
       "<IPython.lib.display.IFrame at 0x7fcc6423f390>"
      ]
     },
     "metadata": {},
     "output_type": "display_data"
    },
    {
     "data": {
      "text/plain": [
       "'https://studiobitonti.appspot.com/apps/visualize?name=grid_example.json&t=temp_sdmsd2123df3adsfa_2018.03.20'"
      ]
     },
     "execution_count": 12,
     "metadata": {},
     "output_type": "execute_result"
    }
   ],
   "source": [
    "# initialise conformal lattice class and create a conformal 3d grid\n",
    "conformalLattice = genysis.conformalLattice()\n",
    "conformalLattice.setEPSILON(0.1)\n",
    "conformalLattice.setSurfaces(\"sole_example.json\")\n",
    "conformalLattice.setUVW(50,6,5)\n",
    "conformalLattice.setGridOutput(\"grid_example.json\")\n",
    "conformalLattice.genGrid(token)\n",
    "genysis.visualize(\"grid_example.json\",token,True,500,500)"
   ]
  },
  {
   "cell_type": "code",
   "execution_count": 14,
   "metadata": {},
   "outputs": [
    {
     "name": "stdout",
     "output_type": "stream",
     "text": [
      "('request: ', '{\"case\": 2, \"cBendIn\": 0, \"chamfer\": 0, \"bendIn\": 0, \"centerChamfer\": 0, \"filename\": \"cell_0.obj\", \"t\": \"temp_sdmsd2123df3adsfa_2018.03.20\", \"connectPt\": 0}')\n",
      "('response: ', u'[\"cell_0.obj\"]')\n",
      "https://studiobitonti.appspot.com/apps/visualize?name=cell_0.obj&t=temp_sdmsd2123df3adsfa_2018.03.20\n"
     ]
    },
    {
     "data": {
      "text/html": [
       "\n",
       "        <iframe\n",
       "            width=\"300\"\n",
       "            height=\"300\"\n",
       "            src=\"https://studiobitonti.appspot.com/apps/visualize?name=cell_0.obj&t=temp_sdmsd2123df3adsfa_2018.03.20\"\n",
       "            frameborder=\"0\"\n",
       "            allowfullscreen\n",
       "        ></iframe>\n",
       "        "
      ],
      "text/plain": [
       "<IPython.lib.display.IFrame at 0x7fcc6404d750>"
      ]
     },
     "metadata": {},
     "output_type": "display_data"
    },
    {
     "name": "stdout",
     "output_type": "stream",
     "text": [
      "('request: ', '{\"case\": 2, \"cBendIn\": 0, \"chamfer\": 0, \"bendIn\": 1, \"centerChamfer\": 0, \"filename\": \"cell_1.obj\", \"t\": \"temp_sdmsd2123df3adsfa_2018.03.20\", \"connectPt\": 0}')\n",
      "('response: ', u'[\"cell_1.obj\"]')\n",
      "https://studiobitonti.appspot.com/apps/visualize?name=cell_1.obj&t=temp_sdmsd2123df3adsfa_2018.03.20\n"
     ]
    },
    {
     "data": {
      "text/html": [
       "\n",
       "        <iframe\n",
       "            width=\"300\"\n",
       "            height=\"300\"\n",
       "            src=\"https://studiobitonti.appspot.com/apps/visualize?name=cell_1.obj&t=temp_sdmsd2123df3adsfa_2018.03.20\"\n",
       "            frameborder=\"0\"\n",
       "            allowfullscreen\n",
       "        ></iframe>\n",
       "        "
      ],
      "text/plain": [
       "<IPython.lib.display.IFrame at 0x7fcc6404d750>"
      ]
     },
     "metadata": {},
     "output_type": "display_data"
    },
    {
     "data": {
      "text/plain": [
       "'https://studiobitonti.appspot.com/apps/visualize?name=cell_1.obj&t=temp_sdmsd2123df3adsfa_2018.03.20'"
      ]
     },
     "execution_count": 14,
     "metadata": {},
     "output_type": "execute_result"
    }
   ],
   "source": [
    "# create two different cells to be used as lattice unit\n",
    "\n",
    "cell_0 = 'cell_0.obj'\n",
    "cell_1 = 'cell_1.obj'\n",
    "\n",
    "genysis.genLatticeUnit(case=2,chamfer=0,centerChamfer=0,bendIn=0,cBendIn=0,connectPt=0,output=cell_0,token=token)\n",
    "genysis.visualize(cell_0,token,True,300,300)\n",
    "\n",
    "genysis.genLatticeUnit(case=2,chamfer=0,centerChamfer=0,bendIn=1,cBendIn=0,connectPt=0,output=cell_1,token=token)\n",
    "genysis.visualize(cell_1,token,True,300,300)"
   ]
  },
  {
   "cell_type": "code",
   "execution_count": 15,
   "metadata": {},
   "outputs": [
    {
     "name": "stdout",
     "output_type": "stream",
     "text": [
      "('request: ', '{\"EPSILON\": 0.1, \"component\": \"cell_1.obj\", \"filename\": \"conformalLattice_0.obj\", \"blendTargets\": [], \"boxes\": \"grid_example.json\", \"t\": \"temp_sdmsd2123df3adsfa_2018.03.20\"}')\n",
      "('response: ', u'[\"conformalLattice_0.obj\"]')\n",
      "https://studiobitonti.appspot.com/apps/visualize?name=conformalLattice_0.obj&t=temp_sdmsd2123df3adsfa_2018.03.20\n"
     ]
    },
    {
     "data": {
      "text/html": [
       "\n",
       "        <iframe\n",
       "            width=\"500\"\n",
       "            height=\"500\"\n",
       "            src=\"https://studiobitonti.appspot.com/apps/visualize?name=conformalLattice_0.obj&t=temp_sdmsd2123df3adsfa_2018.03.20\"\n",
       "            frameborder=\"0\"\n",
       "            allowfullscreen\n",
       "        ></iframe>\n",
       "        "
      ],
      "text/plain": [
       "<IPython.lib.display.IFrame at 0x7fcc6c308a90>"
      ]
     },
     "metadata": {},
     "output_type": "display_data"
    },
    {
     "data": {
      "text/plain": [
       "'https://studiobitonti.appspot.com/apps/visualize?name=conformalLattice_0.obj&t=temp_sdmsd2123df3adsfa_2018.03.20'"
      ]
     },
     "execution_count": 15,
     "metadata": {},
     "output_type": "execute_result"
    }
   ],
   "source": [
    "# apply cell_1 to the lattice grid\n",
    "\n",
    "out_file_name = 'conformalLattice_0.obj'\n",
    "conformalLattice.setComponent('cell_1.obj')\n",
    "conformalLattice.setOutput(out_file_name)\n",
    "conformalLattice.populateLattice(token)\n",
    "genysis.visualize(out_file_name,token,True,500,500)"
   ]
  },
  {
   "cell_type": "code",
   "execution_count": 16,
   "metadata": {},
   "outputs": [
    {
     "name": "stdout",
     "output_type": "stream",
     "text": [
      "('request: ', '{\"EPSILON\": 0.1, \"component\": \"cell_0.obj\", \"filename\": \"conformalLattice_1.obj\", \"blendTargets\": [{\"attractor\": {\"range\": 80, \"point\": [0, 0, 0]}, \"component\": \"cell_1.obj\"}], \"boxes\": \"grid_example.json\", \"t\": \"temp_sdmsd2123df3adsfa_2018.03.20\"}')\n",
      "('response: ', u'[\"conformalLattice_1.obj\"]')\n",
      "https://studiobitonti.appspot.com/apps/visualize?name=conformalLattice_1.obj&t=temp_sdmsd2123df3adsfa_2018.03.20\n"
     ]
    },
    {
     "data": {
      "text/html": [
       "\n",
       "        <iframe\n",
       "            width=\"500\"\n",
       "            height=\"500\"\n",
       "            src=\"https://studiobitonti.appspot.com/apps/visualize?name=conformalLattice_1.obj&t=temp_sdmsd2123df3adsfa_2018.03.20\"\n",
       "            frameborder=\"0\"\n",
       "            allowfullscreen\n",
       "        ></iframe>\n",
       "        "
      ],
      "text/plain": [
       "<IPython.lib.display.IFrame at 0x7fcc6423f5d0>"
      ]
     },
     "metadata": {},
     "output_type": "display_data"
    },
    {
     "data": {
      "text/plain": [
       "'https://studiobitonti.appspot.com/apps/visualize?name=conformalLattice_1.obj&t=temp_sdmsd2123df3adsfa_2018.03.20'"
      ]
     },
     "execution_count": 16,
     "metadata": {},
     "output_type": "execute_result"
    }
   ],
   "source": [
    "# use a point attractor to blend between two cells\n",
    "\n",
    "out_file_name = 'conformalLattice_1.obj'\n",
    "conformalLattice.attractorSet = []\n",
    "conformalLattice.setComponent('cell_0.obj')\n",
    "conformalLattice.setOutput(out_file_name)\n",
    "conformalLattice.addPointAttractor(component=\"cell_1.obj\",point=[0,0,0],range=80)\n",
    "conformalLattice.populateLattice(token)\n",
    "genysis.visualize(out_file_name,token,True,500,500)"
   ]
  },
  {
   "cell_type": "code",
   "execution_count": 17,
   "metadata": {},
   "outputs": [
    {
     "name": "stdout",
     "output_type": "stream",
     "text": [
      "('request: ', '{\"EPSILON\": 0.1, \"component\": \"cell_0.obj\", \"filename\": \"conformalLattice_2.obj\", \"blendTargets\": [{\"attractor\": {\"range\": 200, \"plane\": [1, 0, 0, -100]}, \"component\": \"cell_1.obj\"}], \"boxes\": \"grid_example.json\", \"t\": \"temp_sdmsd2123df3adsfa_2018.03.20\"}')\n",
      "('response: ', u'[\"conformalLattice_2.obj\"]')\n",
      "https://studiobitonti.appspot.com/apps/visualize?name=conformalLattice_2.obj&t=temp_sdmsd2123df3adsfa_2018.03.20\n"
     ]
    },
    {
     "data": {
      "text/html": [
       "\n",
       "        <iframe\n",
       "            width=\"500\"\n",
       "            height=\"500\"\n",
       "            src=\"https://studiobitonti.appspot.com/apps/visualize?name=conformalLattice_2.obj&t=temp_sdmsd2123df3adsfa_2018.03.20\"\n",
       "            frameborder=\"0\"\n",
       "            allowfullscreen\n",
       "        ></iframe>\n",
       "        "
      ],
      "text/plain": [
       "<IPython.lib.display.IFrame at 0x7fcc6a96e750>"
      ]
     },
     "metadata": {},
     "output_type": "display_data"
    },
    {
     "data": {
      "text/plain": [
       "'https://studiobitonti.appspot.com/apps/visualize?name=conformalLattice_2.obj&t=temp_sdmsd2123df3adsfa_2018.03.20'"
      ]
     },
     "execution_count": 17,
     "metadata": {},
     "output_type": "execute_result"
    }
   ],
   "source": [
    "# use a plane attractor to blend between two cells\n",
    "\n",
    "out_file_name = 'conformalLattice_2.obj'\n",
    "conformalLattice.attractorSet = []\n",
    "conformalLattice.setComponent('cell_0.obj')\n",
    "conformalLattice.setOutput(out_file_name)\n",
    "conformalLattice.addPlaneAttractor(component=\"cell_1.obj\",plane=[1,0,0,-100],range=200)\n",
    "conformalLattice.populateLattice(token)\n",
    "genysis.visualize(out_file_name,token,True,500,500)"
   ]
  },
  {
   "cell_type": "code",
   "execution_count": 18,
   "metadata": {},
   "outputs": [
    {
     "name": "stdout",
     "output_type": "stream",
     "text": [
      "('request: ', '{\"EPSILON\": 0.1, \"component\": \"cell_0.obj\", \"filename\": \"conformalLattice_3.obj\", \"blendTargets\": [{\"attractor\": {\"range\": 30, \"curve\": [[-200, 20, 0], [0, -20, 0], [100, 20, 0], [150, 0, 0]]}, \"component\": \"cell_1.obj\"}], \"boxes\": \"grid_example.json\", \"t\": \"temp_sdmsd2123df3adsfa_2018.03.20\"}')\n",
      "('response: ', u'[\"conformalLattice_3.obj\"]')\n",
      "https://studiobitonti.appspot.com/apps/visualize?name=conformalLattice_3.obj&t=temp_sdmsd2123df3adsfa_2018.03.20\n"
     ]
    },
    {
     "data": {
      "text/html": [
       "\n",
       "        <iframe\n",
       "            width=\"500\"\n",
       "            height=\"500\"\n",
       "            src=\"https://studiobitonti.appspot.com/apps/visualize?name=conformalLattice_3.obj&t=temp_sdmsd2123df3adsfa_2018.03.20\"\n",
       "            frameborder=\"0\"\n",
       "            allowfullscreen\n",
       "        ></iframe>\n",
       "        "
      ],
      "text/plain": [
       "<IPython.lib.display.IFrame at 0x7fcc6d8dc2d0>"
      ]
     },
     "metadata": {},
     "output_type": "display_data"
    },
    {
     "data": {
      "text/plain": [
       "'https://studiobitonti.appspot.com/apps/visualize?name=conformalLattice_3.obj&t=temp_sdmsd2123df3adsfa_2018.03.20'"
      ]
     },
     "execution_count": 18,
     "metadata": {},
     "output_type": "execute_result"
    }
   ],
   "source": [
    "# use a curve attractor to blend between two cells\n",
    "\n",
    "out_file_name = 'conformalLattice_3.obj'\n",
    "conformalLattice.attractorSet = []\n",
    "conformalLattice.setComponent('cell_0.obj')\n",
    "conformalLattice.setOutput(out_file_name)\n",
    "conformalLattice.addCurveAttractor(component=\"cell_1.obj\",curve=[[-200,20,0],[0,-20,0],[100,20,0],[150,0,0]],range=30)\n",
    "conformalLattice.populateLattice(token)\n",
    "genysis.visualize(out_file_name,token,True,500,500)"
   ]
  },
  {
   "cell_type": "code",
   "execution_count": 22,
   "metadata": {},
   "outputs": [
    {
     "name": "stdout",
     "output_type": "stream",
     "text": [
      "('request: ', '{\"memberThickness\": 1, \"lines\": \"conformalLattice_3.obj\", \"filename\": \"Marching_Cube_Example.stl\", \"t\": \"temp_sdmsd2123df3adsfa_2018.03.20\", \"preview\": true, \"resolution\": 300}')\n",
      "('response: ', u'[\"Marching_Cube_Example.stl\"]')\n",
      "https://studiobitonti.appspot.com/apps/visualize?name=Marching_Cube_Example.stl&t=temp_sdmsd2123df3adsfa_2018.03.20\n"
     ]
    },
    {
     "data": {
      "text/html": [
       "\n",
       "        <iframe\n",
       "            width=\"500\"\n",
       "            height=\"500\"\n",
       "            src=\"https://studiobitonti.appspot.com/apps/visualize?name=Marching_Cube_Example.stl&t=temp_sdmsd2123df3adsfa_2018.03.20\"\n",
       "            frameborder=\"0\"\n",
       "            allowfullscreen\n",
       "        ></iframe>\n",
       "        "
      ],
      "text/plain": [
       "<IPython.lib.display.IFrame at 0x7fcc6423f1d0>"
      ]
     },
     "metadata": {},
     "output_type": "display_data"
    },
    {
     "data": {
      "text/plain": [
       "u'https://studiobitonti.appspot.com/apps/visualize?name=Marching_Cube_Example.stl&t=temp_sdmsd2123df3adsfa_2018.03.20'"
      ]
     },
     "execution_count": 22,
     "metadata": {},
     "output_type": "execute_result"
    }
   ],
   "source": [
    "# visualize a preview of tubed lattice mesh\n",
    "\n",
    "results = genysis.marchingCube('conformalLattice_3.obj',200,1,\"Marching_Cube_Example_preview.stl\",token,preview=True)\n",
    "genysis.visualize(results[0],token,True,500,500)"
   ]
  },
  {
   "cell_type": "code",
   "execution_count": 28,
   "metadata": {},
   "outputs": [
    {
     "name": "stdout",
     "output_type": "stream",
     "text": [
      "('request: ', '{\"resolution\": 400, \"memberThickness\": 1, \"lines\": \"conformalLattice_3.obj\", \"t\": \"temp_sdmsd2123df3adsfa_2018.03.20\", \"filename\": \"Marching_Cube_Example_final.stl\"}')\n",
      "('response: ', u'[\"Marching_Cube_Example_final.stl\"]')\n",
      "Downloading Marching_Cube_Example_final.stl as test/Marching_Cube_Example_final.stl\n",
      "[==================================================]100%\n",
      "successfully downloaded to test/Marching_Cube_Example_final.stl\n"
     ]
    }
   ],
   "source": [
    "# generate and download water-tight printable stl mesh file \n",
    "\n",
    "results = genysis.marchingCube('conformalLattice_3.obj',400,1,\"Marching_Cube_Example_final.stl\",token,preview=False)\n",
    "genysis.download(src = \"Marching_Cube_Example_final.stl\", dest = \"test/Marching_Cube_Example_final.stl\", token = token)"
   ]
  }
 ],
 "metadata": {
  "kernelspec": {
   "display_name": "Python 2",
   "language": "python",
   "name": "python2"
  },
  "language_info": {
   "codemirror_mode": {
    "name": "ipython",
    "version": 2
   },
   "file_extension": ".py",
   "mimetype": "text/x-python",
   "name": "python",
   "nbconvert_exporter": "python",
   "pygments_lexer": "ipython2",
   "version": "2.7.12"
  }
 },
 "nbformat": 4,
 "nbformat_minor": 2
}
