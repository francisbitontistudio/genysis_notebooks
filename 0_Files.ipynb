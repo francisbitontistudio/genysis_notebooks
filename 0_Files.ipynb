{
 "cells": [
  {
   "cell_type": "code",
   "execution_count": 3,
   "metadata": {},
   "outputs": [],
   "source": [
    "# install genysis library with: pip install genysis\n",
    "import genysis\n",
    "t = \"Space0ut!\" # replace with your valid token\n",
    "\n",
    "# genysis api allows user to upload and store files on its server\n",
    "# once uploaded, the file can be repeatedly used by genysis api functions without re-uploading\n",
    "# all files are saved in separate private buckets linked to its user token"
   ]
  },
  {
   "cell_type": "code",
   "execution_count": 4,
   "metadata": {},
   "outputs": [
    {
     "name": "stdout",
     "output_type": "stream",
     "text": [
      "uploading file size: 0.004 MB\n",
      "[======================================================]108%\n",
      "successfully uploaded models/surface_10by10.obj as surface_10by10.obj\n"
     ]
    },
    {
     "data": {
      "text/plain": [
       "{'message': 'surface_10by10.obj uploaded to public/surface_10by10.obj'}"
      ]
     },
     "execution_count": 4,
     "metadata": {},
     "output_type": "execute_result"
    }
   ],
   "source": [
    "# upload local file to genysis server\n",
    "genysis.upload(\n",
    "    src = \"models/surface_10by10.obj\",\n",
    "    dest = \"surface_10by10.obj\",\n",
    "    token = t\n",
    ")"
   ]
  },
  {
   "cell_type": "code",
   "execution_count": 5,
   "metadata": {},
   "outputs": [
    {
     "name": "stdout",
     "output_type": "stream",
     "text": [
      "Downloading surface_10by10.obj as models/surface_10by10.obj\n",
      "[==================================================]100%\n",
      "successfully downloaded to models/surface_10by10.obj\n"
     ]
    }
   ],
   "source": [
    "# download file from genysis server to local path\n",
    "genysis.download(\n",
    "    src = \"surface_10by10.obj\",\n",
    "    dest = \"models/surface_10by10.obj\",\n",
    "    token = t\n",
    ")"
   ]
  },
  {
   "cell_type": "code",
   "execution_count": 6,
   "metadata": {},
   "outputs": [
    {
     "name": "stdout",
     "output_type": "stream",
     "text": [
      "['../PATTERNS/DIAMOND.obj', '/genysis/', '/genysis/', '/genysis/', '/genysis/', '/genysis/', '1055-Mesh_1.stl', '1055.obj', '119-Mesh_1.stl', '119-Mesh_2.stl', '119.obj', '1212.json', '1212grid.json', '1212lat.obj', '1212mes.stl', '1212meshr.stl', '1213-Mesh_0.stl', '1213-Mesh_1.stl', '1213-Mesh_2.stl', '1213.obj', '1213Meshed_0.stl', '1213Meshed_1.stl', '1213Meshed_2.stl', '1213Meshed_3.stl', '1213Meshed_4.stl', '1213Meshed_5.stl', '1213Meshed_6.stl', '1213Meshed_7.stl', '1213mesh_0.stl', '1213mesh_1.stl', '123-Mesh_0.stl', '123-Mesh_1.stl', '123-Mesh_2.stl', '123.obj', '1240.obj', '1240_0.stl', '1265-Mesh_0.stl', '1265-Mesh_1.stl', '1265-Mesh_2.stl', '1265.obj', '18.05.10_BiometricSummary.pdf', '19.06.19_AKey_Evasive.obj', '19.06.19_AKey_Percision.obj', '19.06.19_DKey_Evasive.obj', '19.06.19_SKey_Evasive.obj', '19.06.19_WKey_Evasive.obj', '19.07.25_PopsicleConformalFit.obj', '19.07.25_PopsicleConformalFit_02.obj', '19.10.03_latticeUpper.obj', '1_orientated.obj', '2336.obj', '252.obj', '252_0.stl', '252_1.stl', '252_2.stl', '2_orientated.obj', '2_output.obj', '2cubes.obj', '2dpoint.txt', '3261.obj', '3holes.stl', '493.obj', '6239.obj', '679-Mesh_0.stl', '679-Mesh_1.stl', '679.obj', '6x6x6_grid.json', '866-Mesh_0.stl', '866-Mesh_1.stl', '866.obj', '870-Mesh_0.stl', '870-Mesh_1.stl', '870.obj', '9.obj', '972-Mesh_0.stl', '972-Mesh_1.stl', '972-Mesh_2.stl', '972.obj', '9_output.obj', 'A-Key.obj', 'A.obj', 'A1.obj', 'A2.obj', 'AlignVertices-manbody.obj', 'Arm.obj', 'Arm1.obj', 'Arm2.obj', 'Arm3.obj', 'Arm4.obj', 'Arm5.obj', 'Atxt_0_2-1-0-0_2_0_.obj', 'Atxt_0_2-1-0-0_2_1_.obj', 'Atxt_1_1-0-0-0_1_1_.obj', 'B.obj', 'BMG1.json', 'BMG1U1.obj', 'BMG1U2.obj', 'BMG1U2.stl', 'BMG1U2.stl_0.stl', 'BMG1U2hd.stl_0.stl', 'BMG1U2hd.stl_1.stl', 'BMG1U2hd.stl_2.stl', 'BMG1U3.obj', 'BMG1U4.obj', 'BMG2.json', 'BMG2U1.obj', 'BMG2U1.stl', 'BMG2U1h.stl', 'BMG2U2.obj', 'BMG2U3.obj', 'BMG2U4.obj', 'BMG3.json', 'BMG3U1.obj', 'BMG3U2.obj', 'BMG3U3.obj', 'BMG3U3.stl', 'BMG3U4.obj', 'BMG4.json', 'BMG4U1.obj', 'BMG4U2.obj', 'BMG4U3.obj', 'BMG4U4.obj', 'BMG4U4.stl', 'BMGU4.obj', 'BackMesh.json', 'BackMeshA.obj', 'BackMeshA.stl', 'BackMeshA_0.stl', 'BackMeshA_1.stl', 'BackMeshA_2.stl', 'BackMeshB.obj', 'BackMeshG.json', 'BackMeshGrid.json', 'Base.obj', 'Base_Surface.obj', 'Base_Surface_bad.obj', 'Base_Surface_convert.obj', 'Base_Surface_convert.ply', 'Base_Surface_convert.stl', 'Base_Surface_new.obj', 'Blend_Input_A.obj', 'Blend_Input_B.obj', 'Blend_result.obj', 'Board.json', 'Board_Grid.json', 'Board_Lattice.obj', 'Board_base.obj', 'Boardlatt.obj', 'Boardlatt_scaled.obj', 'Body.obj', 'Body1.obj', 'Body4.obj', 'Body5.obj', 'Bone-intersection.obj', 'Bone-intersection1.obj', 'Bone-intersection2.obj', 'Bone-intersection3.obj', 'Bone.obj', 'Bone_test.obj', 'Boolean_Difference_Result.obj', 'Boolean_Difference_Result1.obj', 'Boolean_Input_A.obj', 'Boolean_Input_B.obj', 'Boolean_Intersection_Result.obj', 'Boolean_Result.obj', 'Boolean_Union_Result.obj', 'Boolean_example_A.obj', 'Boolean_example_A1.obj', 'Boolean_example_B.obj', 'Boolean_example_B1.obj', 'Bottom.igs', 'BottomSrf.obj', 'Bottom_Srf.obj', 'Box_Morph_Example.obj', 'Box_Morph_Example_base.obj', 'Box_Morph_Example_base_mesh.obj_0.stl', 'Box_Morph_Example_base_mesh2.obj_0.stl', 'Box_Morph_Example_base_mesh3.obj_0.stl', 'Bunny.stl', 'Bunny.stl.obj', 'Bunny2.stl', 'Bunny2.stl.obj', 'Bunny3.stl', 'Bunny3.stl.obj', 'BunnyBroken.obj', 'BunnyBroken_fixed.obj', 'BunnyHoles.obj', 'BunnyNonmanifold.obj', 'BunnyNormalFlip.obj', 'BunnyShelled.stl', 'BunnyShelled.stl.obj', 'C.obj', 'CENTER/LARGE/HIGH-RES/scaffold.obj', 'CENTER/MEDIUM/HIGH-RES/scaffold.obj', 'CENTER/SMALL/HIGH-RES/scaffold.obj', 'C_Projection_Example.obj', 'C_Projection_Result.obj', 'C_Projection_Result_4.obj', 'C_proj_test.obj', 'Capture.JPG', 'Ceil_CompA.obj', 'Ceil_CompB.obj', 'Cell_0.obj', 'Cell_1.obj', 'Chair base.obj', 'Chair-ready.json', 'Chair-test1.obj', 'Chair.json', 'Chair_test.obj', 'Ciel_CompA.obj', 'Ciel_CompB.obj', 'CleanMesh.obj_0.stl', 'CleanMesh.obj_1.stl', 'CleanMesh.obj_10.stl', 'CleanMesh.obj_11.stl', 'CleanMesh.obj_2.stl', 'CleanMesh.obj_3.stl', 'CleanMesh.obj_4.stl', 'CleanMesh.obj_5.stl', 'CleanMesh.obj_6.stl', 'CleanMesh.obj_7.stl', 'CleanMesh.obj_8.stl', 'CleanMesh.obj_9.stl', 'CleanMesh_0.stl', 'CleanMesh_1.stl', 'CleanMesh_10.stl', 'CleanMesh_11.stl', 'CleanMesh_2.stl', 'CleanMesh_3.stl', 'CleanMesh_4.stl', 'CleanMesh_5.stl', 'CleanMesh_6.stl', 'CleanMesh_7.stl', 'CleanMesh_8.stl', 'CleanMesh_9.stl', 'CleanedMesh.obj', 'Combo_Mesh.obj', 'CompTestA.obj', 'CompTestB.obj', 'Cube1.obj', 'Cube2.obj', 'D-Key.obj', 'DirtyMesh.obj', 'DirtyMesh.stl', 'Dirty_Mesh.obj', 'DkeyEvasive_output.obj', 'DoubleWedge-Original.obj', 'DoubleWedge-solid-original.obj', 'DoubleWedge-solid.obj', 'DoubleWedgePorous.obj', 'DoubleWedgePorous_Size5-original.obj', 'DoubleWedgePorous_Size5.obj', 'Dtxt_0_0-0-1-0_2_3_.obj', 'Dtxt_0_0-0-2-0_2_2_.obj', 'EXPORTS/19.11.21_2DRotation.obj', 'EXPORTS/crvs_8.obj', 'Evasion_A.obj', 'Evasion_D.obj', 'ExampleLatticeUnit.obj', 'Example_LatticeUnit.obj', 'Example_LatticeUnit1.obj', 'Example_LatticeUnit10.obj', 'Example_LatticeUnit2.obj', 'Example_LatticeUnit3.obj', 'Example_LatticeUnit4.obj', 'Example_LatticeUnit5.obj', 'Example_LatticeUnit6.obj', 'Example_LatticeUnit7.obj', 'Example_LatticeUnit8.obj', 'Example_LatticeUnit9.obj', 'Example_LatticeUnit_1.obj', 'Example_LatticeUnit_2.obj', 'Example_LatticeUnit_3.obj', 'Example_LatticeUnit_4.obj', 'Example_LatticeUnit_5.obj', 'Example_LatticeUnit_6.obj', 'Example_LatticeUnit_7.obj', 'Example_LatticeUnit_8.obj', 'Example_LatticeUnit_9.obj', 'Example_SrfLattice.obj', 'Example_grid.json', 'Example_marchingCube.obj_0.stl', 'Example_marchingCube_0.stl', 'Example_volumeLattice.obj', 'FMG.json', 'FMG1.json', 'FMG1U1.obj', 'FMG1U2.obj', 'FMG1U3.obj', 'FMG1U3.stl', 'FMG1U4.obj', 'FMG1U4.stl', 'FMG2.json', 'FMG2U1.obj', 'FMG2U1.stl', 'FMG2U2.obj', 'FMG2U3.obj', 'FMG2U4.obj', 'FMG3.json', 'FMG3U1.obj', 'FMG3U2.obj', 'FMG3U3.obj', 'FMG3U4.obj', 'FMG3U4.stl', 'FMG4.json', 'FMG4U1.obj', 'FMG4U2.obj', 'FMG4U2.stl', 'FMG4U3.obj', 'FMG4U4.obj', 'FRONT/LARGE/HIGH-RES/scaffold.obj', 'FRONT/MEDIUM/HIGH-RES/scaffold.obj', 'FRONT/SMALL/HIGH-RES/scaffold.obj', 'FilledFile.obj', 'Franics-Obj1.obj', 'FullMeshA.obj', 'FullMeshA.stl', 'FullMeshA.stl_0.stl', 'FullMeshA.stl_1.stl', 'FullMeshB.obj', 'FullMeshG.json', 'FullMest.json', 'Gear.obj', 'Head.obj', 'HolesFiles-Smooth-manbody.obj', 'HolesFiles-manbody.obj', 'HolesFilesmanbody.obj', 'Joint_mesh.obj', 'KRUP_01.obj', 'KRUP_BARE_01.stl', 'KRUP_BARE_02.stl', 'KRUP_BARE_03.stl', 'KRUP_PATTERN.obj', 'KRUP_SCAFFOLD.stp', 'KRUP_ZONE.obj', 'LEFT/LARGE/HIGH-RES/scaffold.obj', 'LEFT/MEDIUM/HIGH-RES/scaffold.obj', 'LEFT/SMALL/HIGH-RES/scaffold.obj', 'LatticeBoard.obj', 'LatticeUnit_0.obj', 'Lattice_Unit.obj', 'Marching_Cube_Example.obj_0.stl', 'Marching_Cube_Example.stl', 'Marching_Cube_Example2_0.stl', 'Marching_Cube_Example2_1.stl', 'Marching_Cube_Example3_0.stl', 'Marching_Cube_Example3_1.stl', 'Marching_Cube_Example_0.stl', 'Marching_Cube_Example_1.stl', 'Marching_Cube_Example_1_0.stl', 'Marching_Cube_Example_1_1.stl', 'Marching_Cube_Example_2.stl', 'Marching_Cube_Example_2_0.stl', 'Marching_Cube_Example_2_1.stl', 'Marching_Cube_Example_3_0.stl', 'Marching_Cube_Example_4_0.stl', 'Marching_Cube_Example_4_1.stl', 'Marching_Cube_Example_5_0.stl', 'Marching_Cube_Example_6_0.stl', 'Marching_Cube_Example_6_1.stl', 'Marching_Cube_Example_6_2.stl', 'Marching_Cube_Example_6_3.stl', 'Marching_Cube_Example_6_4.stl', 'MergeVertices-AlignVertices-manbody.obj', 'MergeVertices-manbody.obj', 'MeshTransfer.obj', 'Mesh_Reduced_Example.obj', 'Mesh_Reduction_Example', 'Mesh_Split_Example_0.obj', 'Mesh_Split_Example_1.obj', 'Meshing.obj_0.stl', 'Meshing3_0.stl', 'Meshing4_0.stl', 'Meshing8_0.stl', 'Meshing_example.obj', 'Mpart.stl', 'Mpart.stl.obj', 'Mpart2.stl', 'Mpart2.stl.obj', 'OBJExporter_SB.js', 'Obj-1_srf_outter.obj', 'P_Projection_Result.obj', 'P_Projection_Result_4.obj', 'P_Projection_Result_5.obj', 'P_Projection_Result_6.obj', 'P_test.obj', 'Part.obj', 'Percision_A.obj', 'Percision_D.obj', 'Percision_S.obj', 'Percision_W.obj', 'Piston_small.obj', 'Point_rev.json', 'Proj_Resul.obj', 'Proj_ResulXX.obj', 'R.obj', 'RIGHT/LARGE/HIGH-RES/scaffold.obj', 'RIGHT/MEDIUM/HIGH-RES/scaffold.obj', 'RIGHT/SMALL/HIGH-RES/scaffold.obj', 'R_mesh.obj', 'RedMesh.obj', 'Result.obj', 'Result1.obj', 'Result2.obj', 'ResultA.obj', 'ResultB.obj', 'Rhino-Export-inner.obj', 'Rhino-Export-outter.obj', 'Rhino-inner-obj1.obj', 'Rhino_vol1.obj', 'Rhino_vol2.obj', 'Right.ply', 'S-Key.obj', 'S_Lattice_result.obj', 'S_Lattice_result2.obj', 'S_Lattice_result3.obj', 'S_Lattice_result4.obj', 'S_Lattice_result5.obj', 'S_Proj_Result_Arm.obj', 'S_Projection_Example.obj', 'S_Projection_Result.obj', 'S_Projection_Result_2.obj', 'S_Projection_Result_3.obj', 'S_Projection_Result_4.obj', 'S_Projection_Result_Arm.obj', 'S_Projection_example.obj', 'S_lat.obj', 'S_lat2.obj', 'S_lat3.obj', 'S_lattice.obj', 'S_lattice_Result.obj', 'S_mesh2_0.stl', 'S_mesh2_1.stl', 'S_mesh2_2.stl', 'S_mesh2_3.stl', 'S_mesh2_4.stl', 'S_mesh2_5.stl', 'S_mesh2_6.stl', 'S_mesh2_7.stl', 'S_mesh2_8.stl', 'S_mesh2_9.stl', 'S_mesh_0.stl', 'S_mesh_1.stl', 'S_mesh_2.stl', 'S_mesh_3.stl', 'S_proj_test.obj', 'Side01.igs', 'Side02.igs', 'Skate.json', 'Skate_Grid.json', 'Skate_Grid2.json', 'Skate_Lat.obj', 'Skate_Lat2.obj', 'Skate_Lattice.obj', 'Skate_Lattice_3D.obj', 'Skate_Spine.obj', 'Skate_base.obj', 'Skate_meshed_0.stl', 'Skate_meshed_1.stl', 'Skate_meshed_2.stl', 'Skate_meshed_3.stl', 'Skate_spine.obj', 'Skate_test.obj', 'Skate_test2.obj', 'Skate_test_board.obj', 'Skate_test_board2.obj', 'Skate_test_tail.obj', 'Skull Example.obj', 'Skull-Example.obj', 'Skull_Bone.obj', 'Skull_Srf.obj', 'Smooth-manbody.obj', 'Sole-Lattice.obj', 'Sole-LatticeBlend1.obj', 'Sole-Ready.json', 'Sole-basic.obj', 'Sole.json', 'Solemeshpreview-apart.obj', 'Solemeshpreview.obj', 'SolidsA.obj', 'SolidsB.obj', 'SphereDeginatedFaces.stl', 'SphereDeginatedFaces.stl.obj', 'SpineBoneGuide.obj', 'Split_Mesh_0.obj', 'Split_Mesh_1.obj', 'Split_Mesh_2.obj', 'Split_Result_0.obj', 'Split_Result_1.obj', 'Split_Result_2.obj', 'Split_Result_3.obj', 'Split_test.obj', 'Split_test_Mesh_0.obj', 'Split_test_Mesh_1.obj', 'Split_test_Mesh_2.obj', 'Sprs.obj', 'SrfLatLine.obj', 'SrfLatPlane.obj', 'SrfLatPoint.obj', 'Srf_A.obj', 'Srf_A_Ciel2.obj', 'Srf_A_Ciel3.obj', 'Srf_A_Ciel4.obj', 'Srf_A_Ciel5.obj', 'Srf_A_CielA.obj', 'Srf_A_CielB.obj', 'Srf_A_CielC.obj', 'Srf_A_Result.obj', 'Srf_A_Result_Ciel.obj', 'Srf_A_Result_Ciel2.obj', 'Srf_A_Result_Ciel3.obj', 'Srf_A_Result_Ciel4.obj', 'Srf_A_Result_Combo_1.obj', 'Srf_A_Result_Combo_2.obj', 'Srf_A_Result_Combo_3.obj', 'Srf_A_Result_Combo_4.obj', 'Srf_A_Result_Combo_5.obj', 'Srf_A_Result_Combo_6.obj', 'Srf_A_Result_Mesh_0.stl', 'Srf_A_Result_Mesh_B_0.stl', 'Srf_B.obj', 'Srf_B_Result.obj', 'Srf_Latt_Base.obj', 'Srf_Result_B.obj', 'Srf_lat0.obj', 'Srf_lat1.obj', 'Srf_lat2.obj', 'Srf_lat3.obj', 'Srf_lat4.obj', 'Srf_lat5.obj', 'Srf_lat6.obj', 'Srf_lat9.obj', 'Srf_latA.obj', 'Srf_latz.obj', 'Srf_test_Simple.obj', 'Stem-LatticeBlend1-mesh.stl', 'Stem-LatticeBlend1.obj', 'Stxt_0_0-0-0-1_2_3_.obj', 'Stxt_1_0-0-0-2_1_1_.obj', 'Surface_Base_LatticeUnit_2.obj', 'Surface_Lattice.obj', 'Surface_Lattice_Example.obj', 'Surface_Lattice_Example2.obj', 'Surface_Lattice_Example3.obj', 'Surface_Lattice_Example_1.obj', 'Surface_Lattice_Example_1.obj_0.stl', 'Surface_Lattice_Example_2.obj', 'Surface_Lattice_Example_2_0.stl', 'Surface_Lattice_Example_3.obj', 'Surface_Lattice_Example_3_0.stl', 'Surface_Lattice_Example_4.obj', 'Surface_Lattice_Example_5.obj', 'Surface_Lattice_Example_6.obj', 'Surface_result_Example_10_0.stl', 'Surface_result_Example_10_1.stl', 'Surface_result_Example_10_2.stl', 'Surface_result_Example_10_3.stl', 'Surface_result_Example_10_4.stl', 'Surface_result_Example_10_5.stl', 'Surface_result_Example_6_0.stl', 'Surface_result_Example_7_0.stl', 'Surface_result_Example_8_0.stl', 'Surface_result_Example_9_0.stl', 'Test.json', 'Top.igs', 'TopSrf.obj', 'Top_Srf.obj', 'U1.obj', 'U2.obj', 'U3.obj', 'U4.obj', 'UVH.json', 'UnifiedFile.obj', 'UnifyNormal-manbody.obj', 'Unit.obj', 'Vol.obj', 'Vol_A.obj', 'Vol_B.obj', 'Vol_Bone.obj', 'Vol_C.obj', 'Vol_D.obj', 'Vol_E.obj', 'Vol_Latt_Base.obj', 'Vol_Latt_Ex.obj', 'Vol_Latt_Ex2.obj', 'Vol_Latt_Ex3.obj', 'Vol_Latt_Ex4.obj', 'Vol_Latt_Example.obj', 'Vol_Latt_Example2.obj', 'Vol_Latt_Example4.obj', 'Vol_Latt_Example5.obj', 'Vol_Latt_Example_1.obj', 'Vol_Latt_Example_2.obj', 'Vol_Latt_Example_3.obj', 'Vol_Lattice_Example.obj', 'Vol_Result_A.obj', 'Vol_Result_B.obj', 'Vol_Simple.obj', 'Vol_Simple_A.obj', 'Vol_Simple_A_mesh_0.stl', 'Vol_Simple_B.obj', 'Vol_Simple_Result_A.obj', 'Vol_Simple_Result_B.obj', 'Vol_Simple_Result_C.obj', 'Vol_Simple_Result_D.obj', 'Vol_Simple_Result_E.obj', 'Vol_Simple_Result_F.obj', 'Vol_Simple_Result_G.obj', 'Vol_Simple_Result_H.obj', 'Vol_Simple_Result_I.obj', 'Vol_Unit.obj', 'Vol_base.obj', 'Vol_base1.obj', 'Vol_base_1.obj', 'Vol_base_q.obj', 'Vol_table.obj', 'Volume.obj', 'Volume_Lattice_Example.obj', 'W-Key.obj', 'WiivvSole-Ready.json', 'WiivvSole-ready.json', 'WiivvSole.json', 'WivvSole-Example.obj', 'WkeyEvasive_output.obj', 'Wkey_wGrip.stl', 'Wtxt_1_0-1-0-0_1_1_.obj', 'Wtxt_1_0-2-0-0_2_1_.obj', 'X.obj', 'XHelmet.obj', 'XSrfLatPoint.obj', 'X_H.obj', 'Xhelmet.obj', 'Y.obj', 'Y_H.obj', 'Z.obj', '_temp_gmsh.stl', '_test.obj', 'a-re.obj', 'aUnit.obj', 'aaaa.stl', 'adaptive-meniscus.obj', 'adaptiveGrid.json', 'adaptiveLattice_0.obj', 'adaptiveLattice_1.obj', 'alignedtest.json', 'angle.obj', 'arm-band-test.obj', 'arm-band-test2.mtl', 'arm-band-test2.obj', 'arm-band-test3.mtl', 'arm-band-test3.obj', 'arm-band-test4.obj', 'arm-base.obj', 'arm.obj', 'armband-result.obj', 'asdfa.obj', 'b-re.obj', 'b.igs', 'b.stp', 'b.txt', 'b2.stp', 'band.stp', 'bar.frd', 'bar.inp', 'bar.obj', 'bare01.stl', 'bare02.stl', 'bare03.stl', 'base2.obj', 'baseMesh.stl', 'basesrf.igs', 'bike (1).obj', 'bike.obj', 'bipolar_head1.obj', 'bipolar_head2.obj', 'bipolar_head_lattice_lines.obj', 'bipolar_head_lattice_region.obj', 'bipolar_head_solid_region.obj', 'blend.obj', 'blend_result.obj', 'blend_resultsa2.obj', 'blendboardtest.obj', 'blendboardtest1.obj', 'blob', 'board-parts-result.obj', 'boardbaseSattice.obj', 'boardbasemesh2_0.stl', 'boardbasemesh_0.stl', 'boardlatt_0.obj', 'boardlatt_1.obj', 'boardlatt_2.obj', 'boardlattice.obj', 'boardlattice_1.obj', 'boardlattice_2.obj', 'boardmeshA_0.stl', 'boardmesh_0.stl', 'body.obj', 'body.stp', 'body0.obj', 'body1.obj', 'body10.obj', 'body11.obj', 'body12.obj', 'body13.obj', 'body14.obj', 'body15.obj', 'body2.obj', 'body3.obj', 'body4.obj', 'body5.obj', 'body6.obj', 'body7.obj', 'body8.obj', 'body9.obj', 'body_reduce.obj', 'bool.obj', 'booleanTile.obj', 'boolean_cube.stl', 'boolean_difference_result.obj', 'boolean_intersection_result.obj', 'boolean_output_difference.stl', 'boolean_output_intersection.stl', 'boolean_output_union.stl', 'boolean_sphere.stl', 'boolean_union_result.obj', 'booleaned.obj', 'boolenD.obj', 'boolenI.obj', 'boolenU.obj', 'bot.igs', 'bot.stp', 'botSrf.obj', 'botSrf.stp', 'botSrf01.stp', 'botSrf01a.stp', 'botSrf01c.stp', 'botSrf01d.stp', 'botSrf01e.stp', 'botSrf02.stp', 'botSrf02c.stp', 'botSrf02d.stp', 'botSrf02e.stp', 'botSrf03.stp', 'botSrf03c.stp', 'botSrf04.stp', 'bottom.igs', 'bottom.stp', 'box.obj', 'box0.obj', 'box1.obj', 'box11.obj', 'box2.obj', 'box3.obj', 'box33.obj', 'box4.obj', 'box5.obj', 'box66.obj', 'box77.obj', 'box78.obj', 'box79.obj', 'boxes.json', 'boxes2.json', 'boxes_h.json', 'boxses.json', 'brace.stl', 'brace2.stl', 'brace3.stl', 'brace_shell_nonManifold.stl', 'bracelletArmBase.obj', 'braclet.obj', 'braclet.stl', 'braclet.stl.obj', 'building.obj', 'bunny2.obj', 'bunny2.obj_0.stl', 'c.obj', 'cake_lattice_unit.obj', 'cake_quad_layer_test_1_meshlab.obj', 'cap.stp', 'cap_lattice.obj', 'cap_meshing.obj', 'cap_meshing.obj.stl', 'cap_volume.obj', 'cap_volumeLattice.obj', 'cap_volume_scaled.obj', 'capsule0.jpg', 'carved-band.obj', 'case4-1.obj', 'case4-2.obj', 'cat.JPG', 'cel55.json', 'cel55_fix.json', 'cell.obj', 'cell55_fix.json', 'cell66.json', 'cell99.json', 'cell99grid.json', 'cell99lattice.obj', 'cellX_0.stl', 'cell_0.obj', 'cell_0.stl', 'cell_1.obj', 'cell_2.obj', 'chain_unit.obj', 'check.obj', 'check1.obj', 'check2.obj', 'chiral.obj', 'chiral3D_curl.obj', 'chiral_Control.obj', 'chiral_curl_volume.obj', 'chiral_shift_volume.obj', 'close.obj', 'cmesh.obj', 'comp.obj', 'compX.obj', 'compX2.obj', 'comp_Cross.obj', 'compare.obj', 'conformal-meniscus.obj', 'conformalFitLattice.obj', 'conformalLattice.obj', 'conformalLattice_0.obj', 'conformalLattice_1.obj', 'conformalLattice_2.obj', 'conformalLattice_3.obj', 'conformalLattice_test.obj', 'conformalWarpLattice.obj', 'connected-rod-with-lattice_final.obj', 'connecting-rod-final-boolean.obj', 'connecting-rod.obj', 'connecting-rod_difference-1-applied.obj', 'connecting-rod_difference-tool-1.obj', 'connecting-rod_intersection-1-applied.obj', 'connecting-rod_intersection-tool-1.obj', 'connecting-rod_lattice-1-applied.obj', 'connecting-rod_lattice-1-meshed.obj', 'connecting-rod_lattice-1-meshed.stl', 'connecting-rod_lattice-1-meshed.stl_0.stl', 'connecting-rod_lattice-1-meshed_0.stl', 'connecting_rod_final.obj', 'contours_0.obj', 'contours_1.obj', 'contours_2.obj', 'contours_3.obj', 'contours_4.obj', 'contours_5.obj', 'crosshairs.obj', 'crosshairs_big.obj', 'crosshairs_vertical.obj', 'crosshairs_vertical_big.obj', 'crvs_10.obj', 'crvs_12.obj', 'crvs_1_0_0_0.obj', 'crvs_1_0_0_1.obj', 'crvs_1_0_0_2.obj', 'crvs_8.obj', 'crvs_upper.obj', 'cube.obj', 'cube2.obj', 'cubeUnit.obj', 'curves.obj', 'custom-guide-viz.obj', 'custom-guides-holes.obj', 'custom-guides.obj', 'custom_cell.obj', 'cutout.obj', 'cutoutLattice.stl', 'cuttingbox.obj', 'cylinder.obj', 'cylinder.stp', 'deck.json', 'deep.obj', 'default.obj', 'default_KB.obj', 'default_blend.obj', 'default_marchingCubes_0.stl', 'default_marchingCubes_1.stl', 'default_marchingCubes_2.stl', 'default_projection.obj', 'densityReduction.obj', 'designUnit.obj', 'designunit.obj', 'dieCut.obj', 'dieCut.stl', 'dieCut01.obj', 'dieCut_final.stl', 'difference.obj', 'edge_detection_example.stl', 'example.obj', 'example.stl', 'exampleA.obj', 'exampleB.obj', 'exampleC.obj', 'exampleD.obj', 'example_0.obj', 'example_0.stl', 'example_1.obj', 'example_1.stl', 'example_10.obj', 'example_11.obj', 'example_12.obj', 'example_13.obj', 'example_14.obj', 'example_15.obj', 'example_2.obj', 'example_2.stl', 'example_3.obj', 'example_4.obj', 'example_5.obj', 'example_6.obj', 'example_7.obj', 'example_8.obj', 'example_9.obj', 'example_split.stl0stl', 'example_split.stl1stl', 'example_split.stl2stl', 'example_split_0.stl', 'example_split_1.stl', 'example_split_2.stl', 'exportCrvs.obj', 'eyeHoles.obj', 'eyeWear-X1.obj', 'eyewear_final.obj', 'eyewear_frame.obj', 'face_scan.obj', 'face_scan2.obj', 'face_scan_projection1.obj', 'fb.stl', 'fea_1_0_0_0.frd', 'fea_1_0_0_0.inp', 'fea_1_0_0_1.frd', 'fea_1_0_0_1.inp', 'file46_right.txt', 'final.stl', 'finalMechMesh.obj_0.stl', 'finalMechMesh.obj_1.stl', 'finalMechMesh.obj_2.stl', 'finalMechMesh.obj_3.stl', 'finalPopsicle.obj', 'firstHex.stl', 'flat.obj', 'flatHex.obj', 'flatmesh.obj', 'forslip.obj', 'frank.obj', 'fuck.json', 'fuck.obj', 'gcell99.json', 'grid.json', 'grid.obj', 'grid.stl', 'grid2.json', 'gridMesh.js', 'grid_example.json', 'grid_example_2.json', 'grid_in.json', 'gritd.json', 'ground.obj', 'guides.obj', 'hairs.obj', 'hairs_big.obj', 'half-cocoon.obj', 'handleBar.json', 'handleBot.igs', 'handleSide01.igs', 'handleSide02.igs', 'handleTop.igs', 'helloworld.py', 'helmet.obj', 'helmet2.obj', 'hex.obj', 'hhh.stl', 'hhhh.obj', 'hhhh.stl', 'highUV.json', 'high_density_lattice_unit.obj', 'hip-Conformal-S.json', 'hip-Conformal.json', 'hip-ConformalA.json', 'hip-ConformalX.json', 'hip-cap-lines.obj', 'hip-cap-mesh.stl', 'hip-cap-volume.obj', 'hip-inner.json', 'hip-inner2.json', 'hip-replacement_bipolar-head-with-lattice_final.obj', 'hip-replacement_bipolar-head.obj', 'hip-replacement_bipolar-head_difference-1-applied.obj', 'hip-replacement_bipolar-head_difference-1.obj', 'hip-replacement_bipolar-head_intersection-1-applied.obj', 'hip-replacement_bipolar-head_intersection-1.obj', 'hip-replacement_bipolar-head_lattice-1-applied.obj', 'hip-replacement_bipolar-head_lattice-1-meshed.stl', 'hip-replacement_bipolar-head_lattice-1-meshed_0.stl', 'hip-replacement_bipolar-head_lattice-1-meshed_1.stl', 'hip-replacement_bipolar-head_lattice-1-meshed_2.stl', 'hip-replacement_bipolar-head_lattice-1-meshed_3.stl', 'hip-replacement_femoral-stem-with-lattice_final.obj', 'hip-replacement_femoral-stem.obj', 'hip-replacement_femoral-stem_difference-1-applied.obj', 'hip-replacement_femoral-stem_difference-1.obj', 'hip-replacement_femoral-stem_intersection-1-applied.obj', 'hip-replacement_femoral-stem_intersection-1.obj', 'hip-replacement_femoral-stem_lattice-1-applied.obj', 'hip-replacement_femoral-stem_lattice-1-meshed.stl', 'hip-replacement_femoral-stem_lattice-1-meshed_0.stl', 'hip-replacement_femoral-stem_lattice-1-meshed_1.stl', 'hip-replacement_femoral-stem_lattice-region.obj', 'hip-stem-stoh-lines.obj', 'hip-stoc-mesh.obj', 'hip-stoc-mesh.stl', 'hip.json', 'hipA.json', 'hipLat.json', 'hipLat22.json', 'hipLat33.json', 'hipLattice-hvy.json', 'hipLattice.json', 'hipLattice11.json', 'hipStoc-mesh.stl', 'hipTest.json', 'hip_replacement_bipolar_head_final.obj', 'hip_replacement_femoral_stem_final.obj', 'hmm.obj', 'hmmA.obj', 'hole-split-file.obj', 'horse.stl', 'implant-sample.obj', 'implant-sampleA.obj', 'implant-sampleB.obj', 'implant-sampleC.obj', 'implant-sampleD.obj', 'implant-sampleE.obj', 'implant-sampleF.obj', 'implant-sampleX.obj', 'implant-sampleXX.obj', 'implant.obj', 'implantOutputV2_0.stl', 'implantOutputV2_1.stl', 'implantOutputV2_2.stl', 'implantOutputV2_3.stl', 'implantOutputV2_4.stl', 'implantOutputV2_5.stl', 'implantOutput_0.stl', 'implantOutput_1.stl', 'implantOutput_2.stl', 'implantOutput_3.stl', 'implantOutput_4.stl', 'implantOutput_5.stl', 'implantOutput_6.stl', 'implant_2.obj', 'implicit.stl', 'implicit1.stl', 'implicit2.stl', 'implicit3.stl', 'in.json', 'in2.json', 'ine.json', 'inner-cap.obj', 'inner-cap.stl', 'inner-cap2.obj', 'inner-obj1.obj', 'innerGuide.obj', 'inplant_Result.obj', 'intel-box.json', 'intel-box2.json', 'intel-box3.json', 'intel-lines.obj', 'intel-newcap1.obj', 'intel-ready.json', 'intel1.obj', 'intelx.obj', 'inverted_normal.stl', 'inverted_normal_output.stl', 'katie-RandomOrient.obj', 'katie.obj', 'keen_final.obj', 'keen_implant.obj', 'key.obj', 'keyCap.obj', 'keyCap_final.obj', 'keyOptions.js', 'key_output.obj', 'knee-lattice-meshed.stl', 'knee_final.obj', 'laatice1.obj', 'landmark.temp', 'landscape.obj', 'large.obj', 'large.stl', 'large_2holes.stl', 'large_normal.stl', 'last.obj', 'lattice.frd', 'lattice.inp', 'lattice.obj', 'lattice.stl', 'lattice0.obj', 'lattice01.obj', 'lattice02.obj', 'lattice0a.obj', 'lattice0c.obj', 'lattice0d.obj', 'lattice0e.obj', 'lattice1.obj', 'lattice1c.obj', 'lattice1d.obj', 'lattice1e.obj', 'lattice2.obj', 'lattice2.stl', 'lattice2c.obj', 'lattice3.obj', 'lattice4.obj', 'latticeReduce.obj', 'latticeUnit.obj', 'latticeUnit_example.obj', 'lattice_band.frd', 'lattice_band.inp', 'lattice_band.stl', 'lattice_example.obj', 'lattice_lines.obj', 'lattice_preview.stl', 'lattice_x.frd', 'lattice_x.inp', 'lattice_x.obj', 'lcell99.obj', 'leftfootNeg.stl', 'leftfootNeg_unified.stl', 'leftfootPos.stl', 'leftfootPos_unified.stl', 'lines.obj', 'lines1-1.obj', 'lines1-2.obj', 'lines1.obj', 'linesAA.obj', 'linesMulti.obj', 'lip.obj', 'load.obj', 'local_test.ipynb', 'low.obj', 'low_density_lattice_unit.obj', 'm.stl', 'm.stl_0.stl', 'm.stl_1.stl', 'm1.stl', 'm2.stl', 'm4.stl', 'm5.stl', 'm6.stl', 'm7.stl', 'manbody.obj', 'matrixAlgebra.js', 'mayaObj.obj', 'mechOutput_0.stl', 'mechOutput_1.stl', 'mechOutput_2.stl', 'mechOutput_3.stl', 'mechOutput_4.stl', 'mechOutput_5.stl', 'mechOutput_6.stl', 'mechP.obj', 'meniscus-adaptive.json', 'meniscus-adaptive_0.json', 'meniscus-adaptive_1.json', 'meniscus.json', 'meshing_example.obj', 'meshing_example.obj.stl', 'meshing_example.stl', 'meshing_example.stl_0.stl', 'meshing_example2.stl', 'meshing_example3.stl', 'mid_load.obj', 'middle.stp', 'midsole.stp', 'midsole_b.stp', 'midsole_curve.stp', 'midsole_grid.json', 'midsole_s1.stp', 'midsole_s2.stp', 'midsole_t.stp', 'multiSurfaces.stl', 'multiobjSTL.stl', 'naked.stl', 'negUnit.obj', 'normal.stl', 'not1.obj', 'ob1-result.stl', 'ob2-result.stl', 'obj1-inner-flipped.obj', 'obj1-inner-offset.obj', 'obj1-inner.obj', 'obj1-outter.obj', 'obj1-result.stl', 'obj1-srf1-inner.obj', 'object.obj', 'one.obj', 'open.obj', 'out.json', 'out.stl', 'out2.json', 'out_Lattice.obj', 'outerRing.igs', 'outline.obj', 'output.frd', 'output.inp', 'output.json', 'output.obj', 'output.stl', 'output.stl_0.stl', 'output.stl_1.stl', 'output_1.obj', 'output_1.stl', 'output_2.obj', 'output_2.stl', 'output_3.obj', 'output_3.stl', 'output_4.obj', 'output_4.stl', 'output_5.obj', 'output_5.stl', 'output_h.obj', 'outter-cap.obj', 'outter-mesh.obj', 'outterGuide.obj', 'ouuter-1.obj', 'p.obj', 'part.obj', 'part1.obj', 'part2.obj', 'pattern.obj', 'piston_0.stl', 'piston_1.stl', 'piston_2.stl', 'piston_3.stl', 'piston_4.stl', 'piston_5.stl', 'piston_6.stl', 'piston_7.stl', 'piston_Result.obj', 'plane_projection.obj', 'plate.obj', 'plate.stl', 'plate.stl.obj', 'point_test.json', 'point_test2.json', 'polysurface.stp', 'popsicle_body.json', 'popsicle_bodyLattice.obj', 'popsicle_rim.json', 'popsicle_rimLattice.obj', 'posUnit.obj', 'project_area.obj', 'project_text.obj', 'projected-screw.obj', 'public_119-Mesh_1.stl', 'puc.obj', 'puc.stl', 'puc_fix.stl', 'rec_base.obj', 'reduce.obj', 'reduce_0.obj', 'reduce_1.obj', 'reduce_10.obj', 'reduce_11.obj', 'reduce_12.obj', 'reduce_13.obj', 'reduce_14.obj', 'reduce_15.obj', 'reduce_2.obj', 'reduce_3.obj', 'reduce_4.obj', 'reduce_5.obj', 'reduce_6.obj', 'reduce_7.obj', 'reduce_8.obj', 'reduce_9.obj', 'reduced.obj', 'repaired.obj', 'repaired.stl', 'result-test.obj', 'result.frd', 'result.inp', 'result.json', 'result.obj', 'result1.obj', 'result2.obj', 'result_Arm.obj', 'result_Arm5.obj', 'reszult-test.obj', 'retrained_labels.txt', 'rhinio-ouuter-1.obj', 'rhinoBox.obj', 'rhinoBoxround.obj', 'rim.stp', 'ring-basic-maya.obj', 'ring-basic.obj', 'ring-bent-maya.obj', 'ring-bent.obj', 'ring-big.obj', 'ring-cX1.obj', 'ring-cX2.obj', 'ring-cX3.obj', 'ring-combined3.obj', 'ring-diff1.obj', 'ring-small.obj', 'ring-stoch.obj', 'ring-stoch.stl', 'ring-twist.obj', 'ring-varients.obj', 'ring-varients1.obj', 'ring-varients2.obj', 'ring-varients3.obj', 'ring-varients4.obj', 'ring-varients5.obj', 'ring-varientsx1.obj', 'ring-varientsx2.obj', 'ring-varientsx3.obj', 'ring.obj', 'ring1.obj', 'ring2.obj', 'ring_blended_0.5.obj', 'ring_final.obj', 'ring_lattice.stl', 'ring_latticeA.stl', 'ring_midStep.obj', 'ring_twisted.obj', 'ring_twisted2.obj', 'ringe_union.obj', 's1.igs', 's1.stl', 's1.stp', 's2.igs', 's2.stp', 'scaffold.igs', 'scaffold.obj', 'scaffold.stp', 'scaffold01.igs', 'scaffold02.igs', 'scaffold_Top.obj', 'scaledhorse.stl', 'scaledspine.obj', 'screw_difference.obj', 'screw_union.obj', 'screws.obj', 'self-water-texture.obj', 'self-water.obj', 'setup.py', 'shallow.obj', 'shape.obj', 'shape.stp', 'shapes.igs', 'shell.stl', 'shells.stl', 'shells_unioned.stl', 'shifted.obj', 'shoeUpper01.obj', 'shoeUpper02.obj', 'shoe_0.stl', 'shoe_1.stl', 'shoe_2.stl', 'shpere_with_artifacts.stl', 'shpere_with_artifacts_output.stl', 'shperes.stl', 'side01.stp', 'side02.stp', 'side1.stp', 'side2.stp', 'simplebeam.obj', 'sk.stl', 'skate_example.json', 'skate_in.json', 'skate_out.json', 'skate_outter.json', 'skatespine.obj', 'skatetest..obj', 'skatetest.obj', 'skeleton.obj', 'skt-test_0.stl', 'skt-test_1.stl', 'skt-test_2.stl', 'skt-test_3.stl', 'skull.stl', 'sofa.jpg', 'soft.obj', 'softH.obj', 'soft_H.obj', 'sole.stl', 'soleBot.igs', 'soleConformalLattice_0.obj', 'soleGrid.json', 'soleLattice.obj', 'soleSide1.igs', 'soleSide2.igs', 'soleSrf.json', 'soleSrf2.json', 'soleSrf2Ready.json', 'soleSrfReady.json', 'soleTop.igs', 'sole_example.json', 'soletes.obj', 'soletes1.obj', 'solid-part-spine.obj', 'solid_part.obj', 'sphere.obj', 'sphere.stp', 'sphere2.obj', 'sphere_to_round_up.stl', 'sphere_to_round_up_output.stl', 'sphere_with_3holes.stl', 'sphere_with_3holes_output.stl', 'spheres.stl', 'spheres.stl.obj', 'spheres.stl_0.stl', 'spheres.stl_1.stl', 'spheres.stl_10.stl', 'spheres.stl_11.stl', 'spheres.stl_12.stl', 'spheres.stl_13.stl', 'spheres.stl_14.stl', 'spheres.stl_15.stl', 'spheres.stl_16.stl', 'spheres.stl_17.stl', 'spheres.stl_2.stl', 'spheres.stl_3.stl', 'spheres.stl_4.stl', 'spheres.stl_5.stl', 'spheres.stl_6.stl', 'spheres.stl_7.stl', 'spheres.stl_8.stl', 'spheres.stl_9.stl', 'spheres_unioned.obj', 'spheres_unioned.stl', 'spine.obj', 'spineBone.obj', 'spineSplit_0.obj', 'spineSplit_1.obj', 'spineSplit_2.obj', 'spineSplit_3.obj', 'spine_inplant-clean.obj', 'spine_inplant-lines.obj', 'spine_inplant-linesX.obj', 'spine_inplant-stoch.stl', 'spine_inplant-stochX.stl', 'spine_inplant-stochX_reduce.stl', 'spine_inplant.obj', 'spine_part.obj', 'spine_solids-clean.obj', 'spine_solids-rebuilt.obj', 'spine_solids.obj', 'spinelattice.obj', 'srf-lattice0.obj', 'srf2.obj', 'srf_bott.obj', 'srf_bott2.obj', 'srf_latt_blend_attract.3dm', 'srf_part.obj', 'srf_result_1_0.stl', 'start.js', 'stem-Stoh.obj', 'stem-element-1.obj', 'stem-element-2.obj', 'stem-element-3.obj', 'stem-latticSolid.obj', 'stem-lattice.obj', 'stem-lines.obj', 'stem-mesh.stl', 'stem_lattice-offset.obj', 'stiff.obj', 'stiff_H.obj', 'stltest.stl', 'stochastic-lattice.obj', 'stochasticLattic.obj', 'support.obj', 'support1.obj', 'support2.obj', 'support_projected.obj', 'surface-lattice-demo.obj', 'surface.json', 'surface1.stp', 'surface2.stp', 'surfaceLattice.obj', 'surfaceLatticeArray.obj.stl', 'surfaceLatticeArray.stl', 'surfaceLattice_0.obj', 'surfaceLattice_chainmail.obj', 'surface_10by10.obj', 'surface_10by10_ceil.obj', 'surface_lattice_lines1.obj', 'surface_lattice_lines2.obj', 'surface_lattice_lines3.obj', 'surface_lattice_lines4.obj', 'surface_lattice_meshed_attractor.obj', 'surface_roughness.stl', 'surface_roughness1.stl', 'surface_simple.obj', 'surgical_guide.obj', 'surgical_guide_final.obj', 'surgical_guide_hole.obj', 'surgical_guide_midStep.obj', 'swatch.obj', 'swatchBoxes.json', 't.igs', 't.obj', 't.stp', 't_inside_surf.obj', 't_outside_surf.obj', 'temp.json', 'temp.obj', 'temp.stl', 'temp2.obj', 'tempCrvs.obj', 'tempCrvs_h.obj', 'temp_grid.json', 'test (2).obj', 'test.js', 'test.json', 'test.obj', 'test.obj.obj', 'test.obj_0.stl', 'test.stl', 'test.stl.obj', 'test.stl.obj_0.stl', 'test.stl_0.stl', 'test.txt', 'test1.obj', 'test2.obj', 'test2.stl', 'test2_repaired.stl', 'test3.obj', 'testKey.obj', 'testTxt.obj', 'testVol.stp', 'test_0.obj', 'test_0.stl', 'test_1.stl', 'test_2.stl', 'test_3.stl', 'test_Lattice.obj', 'test_adidas.json', 'test_base.obj', 'test_base2.obj', 'test_base3.obj', 'test_base4.obj', 'test_cell.obj', 'test_dodecahedron.obj', 'test_facet.obj', 'test_output.obj', 'test_proj.obj', 'test_proj1.obj', 'test_proj2.obj', 'test_proj3.obj', 'test_proj4.obj', 'test_proj5.obj', 'test_uploading_large_file.obj', 'testgrid.json', 'testgridflip.json', 'text (1).obj', 'texture.obj', 'textureTop.obj', 'tibia_implant.obj', 'tibia_implant_top.obj', 'tibia_lattice.obj', 'tightedges.obj', 'tile01.obj', 'tile02.obj', 'tiles.obj', 'top.igs', 'top.stp', 'topScaffold.obj', 'topScaffold.stp', 'topSkeleton.obj', 'topSrf.stp', 'torus-ready.json', 'torus.json', 'torus2.json', 'total_knee_implant.obj', 'triUnits.obj', 'tube-inner.obj', 'tube-outter.obj', 'tube-test.obj', 'tube2-inner.obj', 'tube2-outter.obj', 'tube3-inner.obj', 'tube3-outter.obj', 'tube3-outter.obj_0.stl', 'tube4-inner.obj', 'tube4-outter.obj', 'tube_test.obj', 'tube_test.stl', 'tube_with_overlap.stl', 'tube_with_overlap_output.stl', 'tutorial/', 'tutorial/blend/Blend_Input_A.obj', 'tutorial/blend/Blend_Input_B.obj', 'tutorial/blend/blend_result.obj', 'tutorial/boolean/Boolean_Difference_Result.obj', 'tutorial/boolean/Boolean_Input_A.obj', 'tutorial/boolean/Boolean_Input_B.obj', 'tutorial/boolean/Boolean_Intersection_Result.obj', 'tutorial/boolean/Boolean_Union_Result.obj', 'tutorial/cylindrical_projection/Arm.obj', 'tutorial/lattice_unit_generator/Example_LatticeUnit.obj', 'tutorial/lattice_unit_generator/Example_LatticeUnit_2.obj', 'tutorial/marching_cubes/Meshing_example.obj', 'tutorial/mesh_reduction/Dirty_Mesh.obj', 'tutorial/mesh_split/Combo_Mesh.obj', 'tutorial/planar_projection/Body.obj', 'tutorial/spherical_projection/Head.obj', 'tutorial/stochastic_lattice/S_lattice.obj', 'tutorial/surface_lattice/Base_Surface.obj', 'tutorial/surface_lattice/Ciel_CompA.obj', 'tutorial/surface_lattice/Ciel_CompB.obj', 'tutorial/surface_lattice/Surface_Base_LatticeUnit_2.obj', 'tutorial/volume_lattice/Vol_Latt_Base.obj', 'two.obj', 'two_shells.stl', 'two_shells_output_1.stl', 'two_shells_output_2.stl', 'txtDeep.obj', 'txtDeep.stl', 'txtShallow.obj', 'txtShallow.stl', 'underwire.obj', 'underwire_left.obj', 'underwires.obj', 'unified1.stl', 'unified2.stl', 'union.obj', 'union_shell.stl', 'unit.obj', 'unitA.obj', 'unitB.obj', 'unit_0.obj', 'unit_1.obj', 'unit_3D.obj', 'unit_3D2.obj', 'unit_example.obj', 'unit_example1.obj', 'upload.obj', 'upper.obj', 'upper_10.obj', 'upper_12.obj', 'upper_8.obj', 'upper_lattice.obj', 'uselattes.obj', 'uvhifhg.json', 'ventA.obj', 'ventB.obj', 'ventPattern.obj', 'vol-lat1.obj', 'vol-lat2.obj', 'vol-lat3.obj', 'vol-lat4.obj', 'vol.obj', 'vol.stp', 'vol1-lines.obj', 'vol11-lines.obj', 'vol2-lines.obj', 'vol2_lines.obj', 'vol3-lines.obj', 'vol_0.stp', 'vol_1.stp', 'vol_Lattice_Example.obj', 'vol_att_exm.obj', 'vol_board.obj', 'vol_clip.obj', 'vol_example_2.obj', 'vol_exmple_2.obj', 'vol_lattice.obj', 'vol_obj1.obj', 'vol_obj2.obj', 'volalttexamplemeshed_0.stl', 'volalttexamplemeshedfg_0.stl', 'volume-curves.obj', 'volume-lattice-curves.obj', 'volume-lattice-demo.obj', 'volume-meniscus.obj', 'volume.igs', 'volume.stp', 'volumeLattice.obj', 'volumeLattice_lines1.obj', 'volumeLattice_lines2.obj', 'volumeLattice_meshed.obj', 'volume_cell_0.obj', 'volume_cell_1.obj', 'work.obj', 'work2.obj', 'works.obj', 'wow.obj', 'wow.stl', 'x.obj', 'xxx.obj', 'xxx.obj_0.stl', 'xxx.obj_1.stl', 'xxx.obj_10.stl', 'xxx.obj_11.stl', 'xxx.obj_12.stl', 'xxx.obj_13.stl', 'xxx.obj_14.stl', 'xxx.obj_15.stl', 'xxx.obj_16.stl', 'xxx.obj_17.stl', 'xxx.obj_18.stl', 'xxx.obj_19.stl', 'xxx.obj_2.stl', 'xxx.obj_20.stl', 'xxx.obj_21.stl', 'xxx.obj_22.stl', 'xxx.obj_23.stl', 'xxx.obj_24.stl', 'xxx.obj_25.stl', 'xxx.obj_3.stl', 'xxx.obj_4.stl', 'xxx.obj_5.stl', 'xxx.obj_6.stl', 'xxx.obj_7.stl', 'xxx.obj_8.stl', 'xxx.obj_9.stl', 'zone01.obj', 'zone02.obj', 'zone03.obj', 'zones.obj', 'zones.stl']\n"
     ]
    }
   ],
   "source": [
    "# list files from genysis server\n",
    "print(genysis.listFiles(t))"
   ]
  },
  {
   "cell_type": "code",
   "execution_count": 7,
   "metadata": {},
   "outputs": [
    {
     "name": "stdout",
     "output_type": "stream",
     "text": [
      "https://studiobitonti.appspot.com/apps/visualize?name=surface_10by10.obj&t=Space0ut!\n"
     ]
    },
    {
     "data": {
      "text/html": [
       "\n",
       "        <iframe\n",
       "            width=\"500\"\n",
       "            height=\"500\"\n",
       "            src=\"https://studiobitonti.appspot.com/apps/visualize?name=surface_10by10.obj&t=Space0ut!\"\n",
       "            frameborder=\"0\"\n",
       "            allowfullscreen\n",
       "        ></iframe>\n",
       "        "
      ],
      "text/plain": [
       "<IPython.lib.display.IFrame at 0x1cec00de7c8>"
      ]
     },
     "metadata": {},
     "output_type": "display_data"
    },
    {
     "data": {
      "text/plain": [
       "'https://studiobitonti.appspot.com/apps/visualize?name=surface_10by10.obj&t=Space0ut!'"
      ]
     },
     "execution_count": 7,
     "metadata": {},
     "output_type": "execute_result"
    }
   ],
   "source": [
    "# visualize 3d file from genysis server\n",
    "genysis.visualize(\n",
    "    name=\"surface_10by10.obj\",\n",
    "    token=t,\n",
    "    displayInLine=True, # turn off to open a separate browser page for visualizer\n",
    "    width=500, # visualizer window size\n",
    "    height=500\n",
    ")\n",
    "\n",
    "# use mouse left for SPIN, mid for ZOOM, right for PAN"
   ]
  },
  {
   "cell_type": "code",
   "execution_count": 8,
   "metadata": {},
   "outputs": [
    {
     "name": "stdout",
     "output_type": "stream",
     "text": [
      "https://studiobitonti.appspot.com/?t=Space0ut!\n"
     ]
    },
    {
     "data": {
      "text/html": [
       "\n",
       "        <iframe\n",
       "            width=\"600\"\n",
       "            height=\"500\"\n",
       "            src=\"https://studiobitonti.appspot.com/?t=Space0ut!\"\n",
       "            frameborder=\"0\"\n",
       "            allowfullscreen\n",
       "        ></iframe>\n",
       "        "
      ],
      "text/plain": [
       "<IPython.lib.display.IFrame at 0x1cec00c5f48>"
      ]
     },
     "metadata": {},
     "output_type": "display_data"
    },
    {
     "data": {
      "text/plain": [
       "'https://studiobitonti.appspot.com/?t=Space0ut!'"
      ]
     },
     "execution_count": 8,
     "metadata": {},
     "output_type": "execute_result"
    }
   ],
   "source": [
    "# some file management helper tools\n",
    "genysis.fileManager(\n",
    "    token=t,\n",
    "    displayInLine=True, # turn off to open a separate browser page for the tool\n",
    ")"
   ]
  },
  {
   "cell_type": "code",
   "execution_count": null,
   "metadata": {},
   "outputs": [],
   "source": []
  }
 ],
 "metadata": {
  "kernelspec": {
   "display_name": "Python 3",
   "language": "python",
   "name": "python3"
  },
  "language_info": {
   "codemirror_mode": {
    "name": "ipython",
    "version": 3
   },
   "file_extension": ".py",
   "mimetype": "text/x-python",
   "name": "python",
   "nbconvert_exporter": "python",
   "pygments_lexer": "ipython3",
   "version": "3.7.7"
  }
 },
 "nbformat": 4,
 "nbformat_minor": 2
}
