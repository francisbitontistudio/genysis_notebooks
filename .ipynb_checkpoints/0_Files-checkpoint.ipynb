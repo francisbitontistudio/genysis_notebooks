{
 "cells": [
  {
   "cell_type": "code",
   "execution_count": 1,
   "metadata": {},
   "outputs": [
    {
     "name": "stdout",
     "output_type": "stream",
     "text": [
      "Welcome to GENYSIS\n"
     ]
    }
   ],
   "source": [
    "# install genysis library with: pip install genysis\n",
    "import genysis\n",
    "t = \"eyJhbGciOiJIU.U892JiUy\" # replace with your valid token\n",
    "\n",
    "# genysis api allows user to upload and store files on its server\n",
    "# once uploaded, the file can be repeatedly used by genysis api functions without re-uploading\n",
    "# all files are saved in separate private buckets linked to its user token"
   ]
  },
  {
   "cell_type": "code",
   "execution_count": 2,
   "metadata": {},
   "outputs": [
    {
     "name": "stdout",
     "output_type": "stream",
     "text": [
      "('uploading file size:', 0.004, 'MB')\n",
      "[======================================================]108%\n",
      "successfully uploaded models/surface_10by10.obj as surface_10by10.obj\n"
     ]
    },
    {
     "data": {
      "text/plain": [
       "{u'message': u'surface_10by10.obj uploaded to test@test.com/surface_10by10.obj'}"
      ]
     },
     "execution_count": 2,
     "metadata": {},
     "output_type": "execute_result"
    }
   ],
   "source": [
    "# upload local file to genysis server\n",
    "genysis.upload(\n",
    "    src = \"models/surface_10by10.obj\",\n",
    "    dest = \"surface_10by10.obj\",\n",
    "    token = t\n",
    ")"
   ]
  },
  {
   "cell_type": "code",
   "execution_count": 3,
   "metadata": {},
   "outputs": [
    {
     "name": "stdout",
     "output_type": "stream",
     "text": [
      "Downloading surface_10by10.obj as models/surface_10by10.obj\n",
      "[==================================================]100%\n",
      "successfully downloaded to models/surface_10by10.obj\n"
     ]
    }
   ],
   "source": [
    "# download file from genysis server to local path\n",
    "genysis.download(\n",
    "    src = \"surface_10by10.obj\",\n",
    "    dest = \"models/surface_10by10.obj\",\n",
    "    token = t\n",
    ")"
   ]
  },
  {
   "cell_type": "code",
   "execution_count": 4,
   "metadata": {},
   "outputs": [
    {
     "name": "stdout",
     "output_type": "stream",
     "text": [
      "[u'cell_0.obj', u'cell_1.obj', u'chain_unit.obj', u'surfaceLattice_chainmail.obj', u'surface_10by10.obj', u'surface_10by10_ceil.obj', u'surface_lattice_lines1.obj', u'surface_lattice_lines2.obj', u'surface_lattice_lines3.obj', u'surface_lattice_lines4.obj', u'surface_lattice_meshed.obj']\n"
     ]
    }
   ],
   "source": [
    "# list files from genysis server\n",
    "print(genysis.listFiles(t))"
   ]
  },
  {
   "cell_type": "code",
   "execution_count": 5,
   "metadata": {},
   "outputs": [
    {
     "name": "stdout",
     "output_type": "stream",
     "text": [
      "https://studiobitonti.appspot.com/apps/visualize?name=surface_10by10.obj&t=eyJhbGciOiJIU.U892JiUy\n"
     ]
    },
    {
     "data": {
      "text/html": [
       "\n",
       "        <iframe\n",
       "            width=\"500\"\n",
       "            height=\"500\"\n",
       "            src=\"https://studiobitonti.appspot.com/apps/visualize?name=surface_10by10.obj&t=eyJhbGciOiJIU.U892JiUy\"\n",
       "            frameborder=\"0\"\n",
       "            allowfullscreen\n",
       "        ></iframe>\n",
       "        "
      ],
      "text/plain": [
       "<IPython.lib.display.IFrame at 0x7fb13c10f110>"
      ]
     },
     "metadata": {},
     "output_type": "display_data"
    },
    {
     "data": {
      "text/plain": [
       "'https://studiobitonti.appspot.com/apps/visualize?name=surface_10by10.obj&t=eyJhbGciOiJIU.U892JiUy'"
      ]
     },
     "execution_count": 5,
     "metadata": {},
     "output_type": "execute_result"
    }
   ],
   "source": [
    "# visualize 3d file from genysis server\n",
    "genysis.visualize(\n",
    "    name=\"surface_10by10.obj\",\n",
    "    token=t,\n",
    "    displayInLine=True, # turn off to open a separate browser page for visualizer\n",
    "    width=500, # visualizer window size\n",
    "    height=500\n",
    ")\n",
    "\n",
    "# use mouse left for SPIN, mid for ZOOM, right for PAN"
   ]
  },
  {
   "cell_type": "code",
   "execution_count": 6,
   "metadata": {},
   "outputs": [
    {
     "name": "stdout",
     "output_type": "stream",
     "text": [
      "https://studiobitonti.appspot.com/?t=eyJhbGciOiJIU.U892JiUy\n"
     ]
    },
    {
     "data": {
      "text/html": [
       "\n",
       "        <iframe\n",
       "            width=\"600\"\n",
       "            height=\"500\"\n",
       "            src=\"https://studiobitonti.appspot.com/?t=eyJhbGciOiJIU.U892JiUy\"\n",
       "            frameborder=\"0\"\n",
       "            allowfullscreen\n",
       "        ></iframe>\n",
       "        "
      ],
      "text/plain": [
       "<IPython.lib.display.IFrame at 0x7fb13c0fb8d0>"
      ]
     },
     "metadata": {},
     "output_type": "display_data"
    },
    {
     "data": {
      "text/plain": [
       "'https://studiobitonti.appspot.com/?t=eyJhbGciOiJIU.U892JiUy'"
      ]
     },
     "execution_count": 6,
     "metadata": {},
     "output_type": "execute_result"
    }
   ],
   "source": [
    "# some file management helper tools\n",
    "genysis.fileManager(\n",
    "    token=t,\n",
    "    displayInLine=True, # turn off to open a separate browser page for the tool\n",
    ")"
   ]
  }
 ],
 "metadata": {
  "kernelspec": {
   "display_name": "Python 2",
   "language": "python",
   "name": "python2"
  },
  "language_info": {
   "codemirror_mode": {
    "name": "ipython",
    "version": 2
   },
   "file_extension": ".py",
   "mimetype": "text/x-python",
   "name": "python",
   "nbconvert_exporter": "python",
   "pygments_lexer": "ipython2",
   "version": "2.7.12"
  }
 },
 "nbformat": 4,
 "nbformat_minor": 2
}
